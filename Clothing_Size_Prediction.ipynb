{
  "nbformat": 4,
  "nbformat_minor": 0,
  "metadata": {
    "colab": {
      "name": "Clothing_Size_Prediction.ipynb",
      "provenance": []
    },
    "kernelspec": {
      "name": "python3",
      "display_name": "Python 3"
    },
    "language_info": {
      "name": "python"
    }
  },
  "cells": [
    {
      "cell_type": "markdown",
      "source": [
        "This Regression model will predict what size will fit a customer based on relevant features from an online catalogue. "
      ],
      "metadata": {
        "id": "SUiTBz5Bt5CS"
      }
    },
    {
      "cell_type": "markdown",
      "source": [
        "Importing the libraries"
      ],
      "metadata": {
        "id": "hd5JO9YX7YcU"
      }
    },
    {
      "cell_type": "code",
      "source": [
        "import numpy as np  \n",
        "import pandas as pd \n",
        "from sklearn.impute import KNNImputer\n",
        "\n",
        "import matplotlib.pyplot as plt\n",
        "import seaborn as sns\n",
        "from numpy.ma.core import shape\n",
        "\n",
        "from sklearn.model_selection import train_test_split\n",
        "from sklearn.decomposition import PCA\n",
        "from xgboost import XGBRegressor\n",
        "\n",
        "from numpy import absolute\n",
        "from sklearn.model_selection import cross_val_score\n",
        "from sklearn.model_selection import RepeatedKFold"
      ],
      "metadata": {
        "id": "ZgY_Zzfc6eZJ"
      },
      "execution_count": null,
      "outputs": []
    },
    {
      "cell_type": "markdown",
      "source": [
        "Importing the dataset"
      ],
      "metadata": {
        "id": "iBFupvaj7dDr"
      }
    },
    {
      "cell_type": "code",
      "source": [
        "with open('modcloth_final_data.json') as f:\n",
        "    content = f.readlines()\n",
        "\n",
        "data = [eval(c) for c in content]\n",
        "data = pd.DataFrame(data)"
      ],
      "metadata": {
        "id": "grN8nKEceBG1"
      },
      "execution_count": null,
      "outputs": []
    },
    {
      "cell_type": "markdown",
      "source": [
        "Cleaning the data"
      ],
      "metadata": {
        "id": "hysIn4zYgtr6"
      }
    },
    {
      "cell_type": "code",
      "source": [
        "data.head()"
      ],
      "metadata": {
        "colab": {
          "base_uri": "https://localhost:8080/",
          "height": 374
        },
        "id": "1TzP8Kj06l45",
        "outputId": "eb6e0fd0-2849-4000-fd67-4bfd03562fff"
      },
      "execution_count": null,
      "outputs": [
        {
          "output_type": "execute_result",
          "data": {
            "text/html": [
              "\n",
              "  <div id=\"df-1b2e4ebc-94e9-4686-b767-8ad38e5cf03e\">\n",
              "    <div class=\"colab-df-container\">\n",
              "      <div>\n",
              "<style scoped>\n",
              "    .dataframe tbody tr th:only-of-type {\n",
              "        vertical-align: middle;\n",
              "    }\n",
              "\n",
              "    .dataframe tbody tr th {\n",
              "        vertical-align: top;\n",
              "    }\n",
              "\n",
              "    .dataframe thead th {\n",
              "        text-align: right;\n",
              "    }\n",
              "</style>\n",
              "<table border=\"1\" class=\"dataframe\">\n",
              "  <thead>\n",
              "    <tr style=\"text-align: right;\">\n",
              "      <th></th>\n",
              "      <th>item_id</th>\n",
              "      <th>waist</th>\n",
              "      <th>size</th>\n",
              "      <th>quality</th>\n",
              "      <th>cup size</th>\n",
              "      <th>hips</th>\n",
              "      <th>bra size</th>\n",
              "      <th>category</th>\n",
              "      <th>bust</th>\n",
              "      <th>height</th>\n",
              "      <th>user_name</th>\n",
              "      <th>length</th>\n",
              "      <th>fit</th>\n",
              "      <th>user_id</th>\n",
              "      <th>shoe size</th>\n",
              "      <th>shoe width</th>\n",
              "      <th>review_summary</th>\n",
              "      <th>review_text</th>\n",
              "    </tr>\n",
              "  </thead>\n",
              "  <tbody>\n",
              "    <tr>\n",
              "      <th>0</th>\n",
              "      <td>123373</td>\n",
              "      <td>29</td>\n",
              "      <td>7</td>\n",
              "      <td>5.0</td>\n",
              "      <td>d</td>\n",
              "      <td>38</td>\n",
              "      <td>34</td>\n",
              "      <td>new</td>\n",
              "      <td>36</td>\n",
              "      <td>5ft 6in</td>\n",
              "      <td>Emily</td>\n",
              "      <td>just right</td>\n",
              "      <td>small</td>\n",
              "      <td>991571</td>\n",
              "      <td>NaN</td>\n",
              "      <td>NaN</td>\n",
              "      <td>NaN</td>\n",
              "      <td>NaN</td>\n",
              "    </tr>\n",
              "    <tr>\n",
              "      <th>1</th>\n",
              "      <td>123373</td>\n",
              "      <td>31</td>\n",
              "      <td>13</td>\n",
              "      <td>3.0</td>\n",
              "      <td>b</td>\n",
              "      <td>30</td>\n",
              "      <td>36</td>\n",
              "      <td>new</td>\n",
              "      <td>NaN</td>\n",
              "      <td>5ft 2in</td>\n",
              "      <td>sydneybraden2001</td>\n",
              "      <td>just right</td>\n",
              "      <td>small</td>\n",
              "      <td>587883</td>\n",
              "      <td>NaN</td>\n",
              "      <td>NaN</td>\n",
              "      <td>NaN</td>\n",
              "      <td>NaN</td>\n",
              "    </tr>\n",
              "    <tr>\n",
              "      <th>2</th>\n",
              "      <td>123373</td>\n",
              "      <td>30</td>\n",
              "      <td>7</td>\n",
              "      <td>2.0</td>\n",
              "      <td>b</td>\n",
              "      <td>NaN</td>\n",
              "      <td>32</td>\n",
              "      <td>new</td>\n",
              "      <td>NaN</td>\n",
              "      <td>5ft 7in</td>\n",
              "      <td>Ugggh</td>\n",
              "      <td>slightly long</td>\n",
              "      <td>small</td>\n",
              "      <td>395665</td>\n",
              "      <td>9.00</td>\n",
              "      <td>NaN</td>\n",
              "      <td>NaN</td>\n",
              "      <td>NaN</td>\n",
              "    </tr>\n",
              "    <tr>\n",
              "      <th>3</th>\n",
              "      <td>123373</td>\n",
              "      <td>NaN</td>\n",
              "      <td>21</td>\n",
              "      <td>5.0</td>\n",
              "      <td>dd/e</td>\n",
              "      <td>NaN</td>\n",
              "      <td>NaN</td>\n",
              "      <td>new</td>\n",
              "      <td>NaN</td>\n",
              "      <td>NaN</td>\n",
              "      <td>alexmeyer626</td>\n",
              "      <td>just right</td>\n",
              "      <td>fit</td>\n",
              "      <td>875643</td>\n",
              "      <td>NaN</td>\n",
              "      <td>NaN</td>\n",
              "      <td>NaN</td>\n",
              "      <td>NaN</td>\n",
              "    </tr>\n",
              "    <tr>\n",
              "      <th>4</th>\n",
              "      <td>123373</td>\n",
              "      <td>NaN</td>\n",
              "      <td>18</td>\n",
              "      <td>5.0</td>\n",
              "      <td>b</td>\n",
              "      <td>NaN</td>\n",
              "      <td>36</td>\n",
              "      <td>new</td>\n",
              "      <td>NaN</td>\n",
              "      <td>5ft 2in</td>\n",
              "      <td>dberrones1</td>\n",
              "      <td>slightly long</td>\n",
              "      <td>small</td>\n",
              "      <td>944840</td>\n",
              "      <td>NaN</td>\n",
              "      <td>NaN</td>\n",
              "      <td>NaN</td>\n",
              "      <td>NaN</td>\n",
              "    </tr>\n",
              "  </tbody>\n",
              "</table>\n",
              "</div>\n",
              "      <button class=\"colab-df-convert\" onclick=\"convertToInteractive('df-1b2e4ebc-94e9-4686-b767-8ad38e5cf03e')\"\n",
              "              title=\"Convert this dataframe to an interactive table.\"\n",
              "              style=\"display:none;\">\n",
              "        \n",
              "  <svg xmlns=\"http://www.w3.org/2000/svg\" height=\"24px\"viewBox=\"0 0 24 24\"\n",
              "       width=\"24px\">\n",
              "    <path d=\"M0 0h24v24H0V0z\" fill=\"none\"/>\n",
              "    <path d=\"M18.56 5.44l.94 2.06.94-2.06 2.06-.94-2.06-.94-.94-2.06-.94 2.06-2.06.94zm-11 1L8.5 8.5l.94-2.06 2.06-.94-2.06-.94L8.5 2.5l-.94 2.06-2.06.94zm10 10l.94 2.06.94-2.06 2.06-.94-2.06-.94-.94-2.06-.94 2.06-2.06.94z\"/><path d=\"M17.41 7.96l-1.37-1.37c-.4-.4-.92-.59-1.43-.59-.52 0-1.04.2-1.43.59L10.3 9.45l-7.72 7.72c-.78.78-.78 2.05 0 2.83L4 21.41c.39.39.9.59 1.41.59.51 0 1.02-.2 1.41-.59l7.78-7.78 2.81-2.81c.8-.78.8-2.07 0-2.86zM5.41 20L4 18.59l7.72-7.72 1.47 1.35L5.41 20z\"/>\n",
              "  </svg>\n",
              "      </button>\n",
              "      \n",
              "  <style>\n",
              "    .colab-df-container {\n",
              "      display:flex;\n",
              "      flex-wrap:wrap;\n",
              "      gap: 12px;\n",
              "    }\n",
              "\n",
              "    .colab-df-convert {\n",
              "      background-color: #E8F0FE;\n",
              "      border: none;\n",
              "      border-radius: 50%;\n",
              "      cursor: pointer;\n",
              "      display: none;\n",
              "      fill: #1967D2;\n",
              "      height: 32px;\n",
              "      padding: 0 0 0 0;\n",
              "      width: 32px;\n",
              "    }\n",
              "\n",
              "    .colab-df-convert:hover {\n",
              "      background-color: #E2EBFA;\n",
              "      box-shadow: 0px 1px 2px rgba(60, 64, 67, 0.3), 0px 1px 3px 1px rgba(60, 64, 67, 0.15);\n",
              "      fill: #174EA6;\n",
              "    }\n",
              "\n",
              "    [theme=dark] .colab-df-convert {\n",
              "      background-color: #3B4455;\n",
              "      fill: #D2E3FC;\n",
              "    }\n",
              "\n",
              "    [theme=dark] .colab-df-convert:hover {\n",
              "      background-color: #434B5C;\n",
              "      box-shadow: 0px 1px 3px 1px rgba(0, 0, 0, 0.15);\n",
              "      filter: drop-shadow(0px 1px 2px rgba(0, 0, 0, 0.3));\n",
              "      fill: #FFFFFF;\n",
              "    }\n",
              "  </style>\n",
              "\n",
              "      <script>\n",
              "        const buttonEl =\n",
              "          document.querySelector('#df-1b2e4ebc-94e9-4686-b767-8ad38e5cf03e button.colab-df-convert');\n",
              "        buttonEl.style.display =\n",
              "          google.colab.kernel.accessAllowed ? 'block' : 'none';\n",
              "\n",
              "        async function convertToInteractive(key) {\n",
              "          const element = document.querySelector('#df-1b2e4ebc-94e9-4686-b767-8ad38e5cf03e');\n",
              "          const dataTable =\n",
              "            await google.colab.kernel.invokeFunction('convertToInteractive',\n",
              "                                                     [key], {});\n",
              "          if (!dataTable) return;\n",
              "\n",
              "          const docLinkHtml = 'Like what you see? Visit the ' +\n",
              "            '<a target=\"_blank\" href=https://colab.research.google.com/notebooks/data_table.ipynb>data table notebook</a>'\n",
              "            + ' to learn more about interactive tables.';\n",
              "          element.innerHTML = '';\n",
              "          dataTable['output_type'] = 'display_data';\n",
              "          await google.colab.output.renderOutput(dataTable, element);\n",
              "          const docLink = document.createElement('div');\n",
              "          docLink.innerHTML = docLinkHtml;\n",
              "          element.appendChild(docLink);\n",
              "        }\n",
              "      </script>\n",
              "    </div>\n",
              "  </div>\n",
              "  "
            ],
            "text/plain": [
              "  item_id waist  size  quality  ... shoe size shoe width review_summary review_text\n",
              "0  123373    29     7      5.0  ...       NaN        NaN            NaN         NaN\n",
              "1  123373    31    13      3.0  ...       NaN        NaN            NaN         NaN\n",
              "2  123373    30     7      2.0  ...      9.00        NaN            NaN         NaN\n",
              "3  123373   NaN    21      5.0  ...       NaN        NaN            NaN         NaN\n",
              "4  123373   NaN    18      5.0  ...       NaN        NaN            NaN         NaN\n",
              "\n",
              "[5 rows x 18 columns]"
            ]
          },
          "metadata": {},
          "execution_count": 5
        }
      ]
    },
    {
      "cell_type": "code",
      "source": [
        "print(data.dtypes)"
      ],
      "metadata": {
        "id": "3bu_yT1zRF3f"
      },
      "execution_count": null,
      "outputs": []
    },
    {
      "cell_type": "code",
      "source": [
        "#Re-labeling inconsistant column names \n",
        "data.columns = ['Item_Id', 'Waist', 'Size', 'Quality', 'Cup_size', 'Hips', 'Bra_size', 'Category', 'Bust', 'Height', 'User_name', 'Length', 'Fit', 'User_id', 'Shoe_size', 'Shoe_width', 'Review_summary', 'Review_test']"
      ],
      "metadata": {
        "id": "fkGmnDMNljSN"
      },
      "execution_count": null,
      "outputs": []
    },
    {
      "cell_type": "code",
      "source": [
        "data.info()"
      ],
      "metadata": {
        "id": "1oum_ioIe_8k"
      },
      "execution_count": null,
      "outputs": []
    },
    {
      "cell_type": "markdown",
      "source": [
        "Total number of missing values. "
      ],
      "metadata": {
        "id": "qTkMeVqJ8oLl"
      }
    },
    {
      "cell_type": "code",
      "source": [
        "def Missing_data(md):\n",
        "  missing_data_sum = data.isnull().sum()\n",
        "  missing_data = pd.DataFrame({'Total_missing_values': missing_data_sum,'Percentage_of_missing_values': (missing_data_sum/data.shape[0])*100})\n",
        "  return missing_data\n",
        "\n",
        "Missing_data(data)"
      ],
      "metadata": {
        "colab": {
          "base_uri": "https://localhost:8080/",
          "height": 613
        },
        "id": "90k6a9KLfLJ2",
        "outputId": "6da7a635-ef66-4b98-82eb-c51a585c70f2"
      },
      "execution_count": null,
      "outputs": [
        {
          "output_type": "execute_result",
          "data": {
            "text/html": [
              "\n",
              "  <div id=\"df-c2e4b412-37f7-484e-ade3-e332c43f191d\">\n",
              "    <div class=\"colab-df-container\">\n",
              "      <div>\n",
              "<style scoped>\n",
              "    .dataframe tbody tr th:only-of-type {\n",
              "        vertical-align: middle;\n",
              "    }\n",
              "\n",
              "    .dataframe tbody tr th {\n",
              "        vertical-align: top;\n",
              "    }\n",
              "\n",
              "    .dataframe thead th {\n",
              "        text-align: right;\n",
              "    }\n",
              "</style>\n",
              "<table border=\"1\" class=\"dataframe\">\n",
              "  <thead>\n",
              "    <tr style=\"text-align: right;\">\n",
              "      <th></th>\n",
              "      <th>Total_missing_values</th>\n",
              "      <th>Percentage_of_missing_values</th>\n",
              "    </tr>\n",
              "  </thead>\n",
              "  <tbody>\n",
              "    <tr>\n",
              "      <th>Item_Id</th>\n",
              "      <td>0</td>\n",
              "      <td>0.000000</td>\n",
              "    </tr>\n",
              "    <tr>\n",
              "      <th>Waist</th>\n",
              "      <td>79908</td>\n",
              "      <td>96.518903</td>\n",
              "    </tr>\n",
              "    <tr>\n",
              "      <th>Size</th>\n",
              "      <td>0</td>\n",
              "      <td>0.000000</td>\n",
              "    </tr>\n",
              "    <tr>\n",
              "      <th>Quality</th>\n",
              "      <td>68</td>\n",
              "      <td>0.082136</td>\n",
              "    </tr>\n",
              "    <tr>\n",
              "      <th>Cup_size</th>\n",
              "      <td>6255</td>\n",
              "      <td>7.555260</td>\n",
              "    </tr>\n",
              "    <tr>\n",
              "      <th>Hips</th>\n",
              "      <td>26726</td>\n",
              "      <td>32.281677</td>\n",
              "    </tr>\n",
              "    <tr>\n",
              "      <th>Bra_size</th>\n",
              "      <td>6018</td>\n",
              "      <td>7.268994</td>\n",
              "    </tr>\n",
              "    <tr>\n",
              "      <th>Category</th>\n",
              "      <td>0</td>\n",
              "      <td>0.000000</td>\n",
              "    </tr>\n",
              "    <tr>\n",
              "      <th>Bust</th>\n",
              "      <td>70936</td>\n",
              "      <td>85.681846</td>\n",
              "    </tr>\n",
              "    <tr>\n",
              "      <th>Height</th>\n",
              "      <td>1107</td>\n",
              "      <td>1.337118</td>\n",
              "    </tr>\n",
              "    <tr>\n",
              "      <th>User_name</th>\n",
              "      <td>0</td>\n",
              "      <td>0.000000</td>\n",
              "    </tr>\n",
              "    <tr>\n",
              "      <th>Length</th>\n",
              "      <td>35</td>\n",
              "      <td>0.042276</td>\n",
              "    </tr>\n",
              "    <tr>\n",
              "      <th>Fit</th>\n",
              "      <td>0</td>\n",
              "      <td>0.000000</td>\n",
              "    </tr>\n",
              "    <tr>\n",
              "      <th>User_id</th>\n",
              "      <td>0</td>\n",
              "      <td>0.000000</td>\n",
              "    </tr>\n",
              "    <tr>\n",
              "      <th>Shoe_size</th>\n",
              "      <td>54875</td>\n",
              "      <td>66.282160</td>\n",
              "    </tr>\n",
              "    <tr>\n",
              "      <th>Shoe_width</th>\n",
              "      <td>64183</td>\n",
              "      <td>77.525063</td>\n",
              "    </tr>\n",
              "    <tr>\n",
              "      <th>Review_summary</th>\n",
              "      <td>6725</td>\n",
              "      <td>8.122962</td>\n",
              "    </tr>\n",
              "    <tr>\n",
              "      <th>Review_test</th>\n",
              "      <td>6725</td>\n",
              "      <td>8.122962</td>\n",
              "    </tr>\n",
              "  </tbody>\n",
              "</table>\n",
              "</div>\n",
              "      <button class=\"colab-df-convert\" onclick=\"convertToInteractive('df-c2e4b412-37f7-484e-ade3-e332c43f191d')\"\n",
              "              title=\"Convert this dataframe to an interactive table.\"\n",
              "              style=\"display:none;\">\n",
              "        \n",
              "  <svg xmlns=\"http://www.w3.org/2000/svg\" height=\"24px\"viewBox=\"0 0 24 24\"\n",
              "       width=\"24px\">\n",
              "    <path d=\"M0 0h24v24H0V0z\" fill=\"none\"/>\n",
              "    <path d=\"M18.56 5.44l.94 2.06.94-2.06 2.06-.94-2.06-.94-.94-2.06-.94 2.06-2.06.94zm-11 1L8.5 8.5l.94-2.06 2.06-.94-2.06-.94L8.5 2.5l-.94 2.06-2.06.94zm10 10l.94 2.06.94-2.06 2.06-.94-2.06-.94-.94-2.06-.94 2.06-2.06.94z\"/><path d=\"M17.41 7.96l-1.37-1.37c-.4-.4-.92-.59-1.43-.59-.52 0-1.04.2-1.43.59L10.3 9.45l-7.72 7.72c-.78.78-.78 2.05 0 2.83L4 21.41c.39.39.9.59 1.41.59.51 0 1.02-.2 1.41-.59l7.78-7.78 2.81-2.81c.8-.78.8-2.07 0-2.86zM5.41 20L4 18.59l7.72-7.72 1.47 1.35L5.41 20z\"/>\n",
              "  </svg>\n",
              "      </button>\n",
              "      \n",
              "  <style>\n",
              "    .colab-df-container {\n",
              "      display:flex;\n",
              "      flex-wrap:wrap;\n",
              "      gap: 12px;\n",
              "    }\n",
              "\n",
              "    .colab-df-convert {\n",
              "      background-color: #E8F0FE;\n",
              "      border: none;\n",
              "      border-radius: 50%;\n",
              "      cursor: pointer;\n",
              "      display: none;\n",
              "      fill: #1967D2;\n",
              "      height: 32px;\n",
              "      padding: 0 0 0 0;\n",
              "      width: 32px;\n",
              "    }\n",
              "\n",
              "    .colab-df-convert:hover {\n",
              "      background-color: #E2EBFA;\n",
              "      box-shadow: 0px 1px 2px rgba(60, 64, 67, 0.3), 0px 1px 3px 1px rgba(60, 64, 67, 0.15);\n",
              "      fill: #174EA6;\n",
              "    }\n",
              "\n",
              "    [theme=dark] .colab-df-convert {\n",
              "      background-color: #3B4455;\n",
              "      fill: #D2E3FC;\n",
              "    }\n",
              "\n",
              "    [theme=dark] .colab-df-convert:hover {\n",
              "      background-color: #434B5C;\n",
              "      box-shadow: 0px 1px 3px 1px rgba(0, 0, 0, 0.15);\n",
              "      filter: drop-shadow(0px 1px 2px rgba(0, 0, 0, 0.3));\n",
              "      fill: #FFFFFF;\n",
              "    }\n",
              "  </style>\n",
              "\n",
              "      <script>\n",
              "        const buttonEl =\n",
              "          document.querySelector('#df-c2e4b412-37f7-484e-ade3-e332c43f191d button.colab-df-convert');\n",
              "        buttonEl.style.display =\n",
              "          google.colab.kernel.accessAllowed ? 'block' : 'none';\n",
              "\n",
              "        async function convertToInteractive(key) {\n",
              "          const element = document.querySelector('#df-c2e4b412-37f7-484e-ade3-e332c43f191d');\n",
              "          const dataTable =\n",
              "            await google.colab.kernel.invokeFunction('convertToInteractive',\n",
              "                                                     [key], {});\n",
              "          if (!dataTable) return;\n",
              "\n",
              "          const docLinkHtml = 'Like what you see? Visit the ' +\n",
              "            '<a target=\"_blank\" href=https://colab.research.google.com/notebooks/data_table.ipynb>data table notebook</a>'\n",
              "            + ' to learn more about interactive tables.';\n",
              "          element.innerHTML = '';\n",
              "          dataTable['output_type'] = 'display_data';\n",
              "          await google.colab.output.renderOutput(dataTable, element);\n",
              "          const docLink = document.createElement('div');\n",
              "          docLink.innerHTML = docLinkHtml;\n",
              "          element.appendChild(docLink);\n",
              "        }\n",
              "      </script>\n",
              "    </div>\n",
              "  </div>\n",
              "  "
            ],
            "text/plain": [
              "                Total_missing_values  Percentage_of_missing_values\n",
              "Item_Id                            0                      0.000000\n",
              "Waist                          79908                     96.518903\n",
              "Size                               0                      0.000000\n",
              "Quality                           68                      0.082136\n",
              "Cup_size                        6255                      7.555260\n",
              "Hips                           26726                     32.281677\n",
              "Bra_size                        6018                      7.268994\n",
              "Category                           0                      0.000000\n",
              "Bust                           70936                     85.681846\n",
              "Height                          1107                      1.337118\n",
              "User_name                          0                      0.000000\n",
              "Length                            35                      0.042276\n",
              "Fit                                0                      0.000000\n",
              "User_id                            0                      0.000000\n",
              "Shoe_size                      54875                     66.282160\n",
              "Shoe_width                     64183                     77.525063\n",
              "Review_summary                  6725                      8.122962\n",
              "Review_test                     6725                      8.122962"
            ]
          },
          "metadata": {},
          "execution_count": 236
        }
      ]
    },
    {
      "cell_type": "markdown",
      "source": [
        "Selecting the features relevant to the business problem"
      ],
      "metadata": {
        "id": "7adq9FDYi1YB"
      }
    },
    {
      "cell_type": "code",
      "source": [
        "data = data[['Waist','Bust','Size','Cup_size','Hips','Bra_size','Height']]\n",
        "data.head()"
      ],
      "metadata": {
        "id": "9RRwcdNIicaQ",
        "colab": {
          "base_uri": "https://localhost:8080/",
          "height": 206
        },
        "outputId": "77df3f5e-7d0b-42a3-c70c-8ba6c6dc753d"
      },
      "execution_count": null,
      "outputs": [
        {
          "output_type": "execute_result",
          "data": {
            "text/html": [
              "\n",
              "  <div id=\"df-449d5dcc-b33b-4da4-90b2-506f5271bece\">\n",
              "    <div class=\"colab-df-container\">\n",
              "      <div>\n",
              "<style scoped>\n",
              "    .dataframe tbody tr th:only-of-type {\n",
              "        vertical-align: middle;\n",
              "    }\n",
              "\n",
              "    .dataframe tbody tr th {\n",
              "        vertical-align: top;\n",
              "    }\n",
              "\n",
              "    .dataframe thead th {\n",
              "        text-align: right;\n",
              "    }\n",
              "</style>\n",
              "<table border=\"1\" class=\"dataframe\">\n",
              "  <thead>\n",
              "    <tr style=\"text-align: right;\">\n",
              "      <th></th>\n",
              "      <th>Waist</th>\n",
              "      <th>Bust</th>\n",
              "      <th>Size</th>\n",
              "      <th>Cup_size</th>\n",
              "      <th>Hips</th>\n",
              "      <th>Bra_size</th>\n",
              "      <th>Height</th>\n",
              "    </tr>\n",
              "  </thead>\n",
              "  <tbody>\n",
              "    <tr>\n",
              "      <th>0</th>\n",
              "      <td>29</td>\n",
              "      <td>36</td>\n",
              "      <td>7</td>\n",
              "      <td>d</td>\n",
              "      <td>38</td>\n",
              "      <td>34</td>\n",
              "      <td>5ft 6in</td>\n",
              "    </tr>\n",
              "    <tr>\n",
              "      <th>1</th>\n",
              "      <td>31</td>\n",
              "      <td>NaN</td>\n",
              "      <td>13</td>\n",
              "      <td>b</td>\n",
              "      <td>30</td>\n",
              "      <td>36</td>\n",
              "      <td>5ft 2in</td>\n",
              "    </tr>\n",
              "    <tr>\n",
              "      <th>2</th>\n",
              "      <td>30</td>\n",
              "      <td>NaN</td>\n",
              "      <td>7</td>\n",
              "      <td>b</td>\n",
              "      <td>NaN</td>\n",
              "      <td>32</td>\n",
              "      <td>5ft 7in</td>\n",
              "    </tr>\n",
              "    <tr>\n",
              "      <th>3</th>\n",
              "      <td>NaN</td>\n",
              "      <td>NaN</td>\n",
              "      <td>21</td>\n",
              "      <td>dd/e</td>\n",
              "      <td>NaN</td>\n",
              "      <td>NaN</td>\n",
              "      <td>NaN</td>\n",
              "    </tr>\n",
              "    <tr>\n",
              "      <th>4</th>\n",
              "      <td>NaN</td>\n",
              "      <td>NaN</td>\n",
              "      <td>18</td>\n",
              "      <td>b</td>\n",
              "      <td>NaN</td>\n",
              "      <td>36</td>\n",
              "      <td>5ft 2in</td>\n",
              "    </tr>\n",
              "  </tbody>\n",
              "</table>\n",
              "</div>\n",
              "      <button class=\"colab-df-convert\" onclick=\"convertToInteractive('df-449d5dcc-b33b-4da4-90b2-506f5271bece')\"\n",
              "              title=\"Convert this dataframe to an interactive table.\"\n",
              "              style=\"display:none;\">\n",
              "        \n",
              "  <svg xmlns=\"http://www.w3.org/2000/svg\" height=\"24px\"viewBox=\"0 0 24 24\"\n",
              "       width=\"24px\">\n",
              "    <path d=\"M0 0h24v24H0V0z\" fill=\"none\"/>\n",
              "    <path d=\"M18.56 5.44l.94 2.06.94-2.06 2.06-.94-2.06-.94-.94-2.06-.94 2.06-2.06.94zm-11 1L8.5 8.5l.94-2.06 2.06-.94-2.06-.94L8.5 2.5l-.94 2.06-2.06.94zm10 10l.94 2.06.94-2.06 2.06-.94-2.06-.94-.94-2.06-.94 2.06-2.06.94z\"/><path d=\"M17.41 7.96l-1.37-1.37c-.4-.4-.92-.59-1.43-.59-.52 0-1.04.2-1.43.59L10.3 9.45l-7.72 7.72c-.78.78-.78 2.05 0 2.83L4 21.41c.39.39.9.59 1.41.59.51 0 1.02-.2 1.41-.59l7.78-7.78 2.81-2.81c.8-.78.8-2.07 0-2.86zM5.41 20L4 18.59l7.72-7.72 1.47 1.35L5.41 20z\"/>\n",
              "  </svg>\n",
              "      </button>\n",
              "      \n",
              "  <style>\n",
              "    .colab-df-container {\n",
              "      display:flex;\n",
              "      flex-wrap:wrap;\n",
              "      gap: 12px;\n",
              "    }\n",
              "\n",
              "    .colab-df-convert {\n",
              "      background-color: #E8F0FE;\n",
              "      border: none;\n",
              "      border-radius: 50%;\n",
              "      cursor: pointer;\n",
              "      display: none;\n",
              "      fill: #1967D2;\n",
              "      height: 32px;\n",
              "      padding: 0 0 0 0;\n",
              "      width: 32px;\n",
              "    }\n",
              "\n",
              "    .colab-df-convert:hover {\n",
              "      background-color: #E2EBFA;\n",
              "      box-shadow: 0px 1px 2px rgba(60, 64, 67, 0.3), 0px 1px 3px 1px rgba(60, 64, 67, 0.15);\n",
              "      fill: #174EA6;\n",
              "    }\n",
              "\n",
              "    [theme=dark] .colab-df-convert {\n",
              "      background-color: #3B4455;\n",
              "      fill: #D2E3FC;\n",
              "    }\n",
              "\n",
              "    [theme=dark] .colab-df-convert:hover {\n",
              "      background-color: #434B5C;\n",
              "      box-shadow: 0px 1px 3px 1px rgba(0, 0, 0, 0.15);\n",
              "      filter: drop-shadow(0px 1px 2px rgba(0, 0, 0, 0.3));\n",
              "      fill: #FFFFFF;\n",
              "    }\n",
              "  </style>\n",
              "\n",
              "      <script>\n",
              "        const buttonEl =\n",
              "          document.querySelector('#df-449d5dcc-b33b-4da4-90b2-506f5271bece button.colab-df-convert');\n",
              "        buttonEl.style.display =\n",
              "          google.colab.kernel.accessAllowed ? 'block' : 'none';\n",
              "\n",
              "        async function convertToInteractive(key) {\n",
              "          const element = document.querySelector('#df-449d5dcc-b33b-4da4-90b2-506f5271bece');\n",
              "          const dataTable =\n",
              "            await google.colab.kernel.invokeFunction('convertToInteractive',\n",
              "                                                     [key], {});\n",
              "          if (!dataTable) return;\n",
              "\n",
              "          const docLinkHtml = 'Like what you see? Visit the ' +\n",
              "            '<a target=\"_blank\" href=https://colab.research.google.com/notebooks/data_table.ipynb>data table notebook</a>'\n",
              "            + ' to learn more about interactive tables.';\n",
              "          element.innerHTML = '';\n",
              "          dataTable['output_type'] = 'display_data';\n",
              "          await google.colab.output.renderOutput(dataTable, element);\n",
              "          const docLink = document.createElement('div');\n",
              "          docLink.innerHTML = docLinkHtml;\n",
              "          element.appendChild(docLink);\n",
              "        }\n",
              "      </script>\n",
              "    </div>\n",
              "  </div>\n",
              "  "
            ],
            "text/plain": [
              "  Waist Bust  Size Cup_size Hips Bra_size   Height\n",
              "0    29   36     7        d   38       34  5ft 6in\n",
              "1    31  NaN    13        b   30       36  5ft 2in\n",
              "2    30  NaN     7        b  NaN       32  5ft 7in\n",
              "3   NaN  NaN    21     dd/e  NaN      NaN      NaN\n",
              "4   NaN  NaN    18        b  NaN       36  5ft 2in"
            ]
          },
          "metadata": {},
          "execution_count": 237
        }
      ]
    },
    {
      "cell_type": "markdown",
      "source": [
        "Identifying unique values.   "
      ],
      "metadata": {
        "id": "ugOQuq8U_czU"
      }
    },
    {
      "cell_type": "code",
      "source": [
        "data['Waist'].unique()"
      ],
      "metadata": {
        "colab": {
          "base_uri": "https://localhost:8080/"
        },
        "id": "xAmzpolK_AQI",
        "outputId": "0257ffdb-b1ce-4051-9025-381a02125ae1"
      },
      "execution_count": null,
      "outputs": [
        {
          "output_type": "execute_result",
          "data": {
            "text/plain": [
              "array(['29', '31', '30', nan, '27', '26', '28', '25', '32', '34', '44',\n",
              "       '33', '23', '49', '37', '42', '20', '35', '24', '36', '40', '38',\n",
              "       '48', '22', '41', '21', '39', '45', '43', '46', '47', '50'],\n",
              "      dtype=object)"
            ]
          },
          "metadata": {},
          "execution_count": 195
        }
      ]
    },
    {
      "cell_type": "code",
      "source": [
        "data['Bust'].unique()"
      ],
      "metadata": {
        "colab": {
          "base_uri": "https://localhost:8080/"
        },
        "id": "dx1wKnaM-9Kc",
        "outputId": "9e6e6ca8-6715-410c-8c52-44e7790dfbd3"
      },
      "execution_count": null,
      "outputs": [
        {
          "output_type": "execute_result",
          "data": {
            "text/plain": [
              "array(['36', nan, '39', '34', '43', '35', '38', '33', '40', '41', '44',\n",
              "       '45', '37', '30', '32', '42', '48', '46', '51', '25', '31', '26',\n",
              "       '52', '22', '50', '47', '56', '58', '49', '54', '55', '53', '27',\n",
              "       '28', '29', '20', '57', '23', '37-39', '24', '59'], dtype=object)"
            ]
          },
          "metadata": {},
          "execution_count": 238
        }
      ]
    },
    {
      "cell_type": "code",
      "source": [
        "data['Bust'].value_counts()"
      ],
      "metadata": {
        "colab": {
          "base_uri": "https://localhost:8080/"
        },
        "id": "_XKMZ9c7Vxz1",
        "outputId": "6c025e27-acb5-430c-b2e6-8f3e1d0c7313"
      },
      "execution_count": null,
      "outputs": [
        {
          "output_type": "execute_result",
          "data": {
            "text/plain": [
              "36       2055\n",
              "34       1799\n",
              "38        999\n",
              "35        888\n",
              "32        752\n",
              "37        740\n",
              "40        669\n",
              "33        554\n",
              "39        550\n",
              "42        437\n",
              "41        373\n",
              "44        368\n",
              "45        251\n",
              "43        241\n",
              "46        199\n",
              "48        196\n",
              "31        138\n",
              "47        136\n",
              "50        103\n",
              "30         96\n",
              "49         72\n",
              "51         43\n",
              "28         36\n",
              "52         34\n",
              "54         28\n",
              "53         20\n",
              "29         14\n",
              "20         11\n",
              "26          9\n",
              "55          7\n",
              "25          7\n",
              "56          5\n",
              "24          5\n",
              "58          4\n",
              "27          4\n",
              "23          4\n",
              "57          3\n",
              "22          2\n",
              "37-39       1\n",
              "59          1\n",
              "Name: Bust, dtype: int64"
            ]
          },
          "metadata": {},
          "execution_count": 239
        }
      ]
    },
    {
      "cell_type": "markdown",
      "source": [
        "Irregular data to be converted in Bust column"
      ],
      "metadata": {
        "id": "ETzIxW5CAth9"
      }
    },
    {
      "cell_type": "code",
      "source": [
        "data['Bust'].unique()[-3]"
      ],
      "metadata": {
        "colab": {
          "base_uri": "https://localhost:8080/",
          "height": 36
        },
        "id": "rYfXRgKwAbk2",
        "outputId": "d930d055-bd84-4dac-c4b4-5db91519133f"
      },
      "execution_count": null,
      "outputs": [
        {
          "output_type": "execute_result",
          "data": {
            "application/vnd.google.colaboratory.intrinsic+json": {
              "type": "string"
            },
            "text/plain": [
              "'37-39'"
            ]
          },
          "metadata": {},
          "execution_count": 197
        }
      ]
    },
    {
      "cell_type": "code",
      "source": [
        "data['Bust'] =  data.Bust.astype(str).apply(lambda x : (x.split('-')[0]))"
      ],
      "metadata": {
        "id": "GfSOXEL-A95c"
      },
      "execution_count": null,
      "outputs": []
    },
    {
      "cell_type": "code",
      "source": [
        "data['Size'].unique()"
      ],
      "metadata": {
        "colab": {
          "base_uri": "https://localhost:8080/"
        },
        "id": "mx2liAN3i_Qk",
        "outputId": "aa8e3a75-7633-480b-a310-08535e365bca"
      },
      "execution_count": null,
      "outputs": [
        {
          "output_type": "execute_result",
          "data": {
            "text/plain": [
              "array([ 7, 13, 21, 18, 11,  5, 30, 24, 33,  3, 27, 15,  9, 12, 26, 20,  4,\n",
              "        8, 32, 38,  1,  0,  6, 31, 10, 14, 17,  2, 25])"
            ]
          },
          "metadata": {},
          "execution_count": 199
        }
      ]
    },
    {
      "cell_type": "code",
      "source": [
        "data['Cup_size'].unique()"
      ],
      "metadata": {
        "colab": {
          "base_uri": "https://localhost:8080/"
        },
        "id": "eUG3nYdo_Jps",
        "outputId": "1126af46-2f5e-48bc-dd99-1941d7de8ee3"
      },
      "execution_count": null,
      "outputs": [
        {
          "output_type": "execute_result",
          "data": {
            "text/plain": [
              "array(['d', 'b', 'dd/e', 'c', 'ddd/f', 'dddd/g', 'i', 'a', nan, 'h', 'aa',\n",
              "       'j', 'k'], dtype=object)"
            ]
          },
          "metadata": {},
          "execution_count": 200
        }
      ]
    },
    {
      "cell_type": "markdown",
      "source": [
        "Used open source data to convert Cup_size measurements into numerical data¶"
      ],
      "metadata": {
        "id": "gzoNG-bpBGue"
      }
    },
    {
      "cell_type": "code",
      "source": [
        "def Convert_cup_size_to_cm(cup_size_code):\n",
        "  if cup_size_code == 'aa':\n",
        "    return 10, 11\n",
        "  if cup_size_code == 'a':\n",
        "    return 12, 13\n",
        "  if cup_size_code == 'b':\n",
        "    return 14, 15\n",
        "  if cup_size_code == 'c':\n",
        "    return 16, 17\n",
        "  if cup_size_code == 'd':\n",
        "    return 18, 19\n",
        "  if cup_size_code == 'dd/e':\n",
        "    return 20, 21\n",
        "  if cup_size_code == 'ddd/f':\n",
        "    return 22, 23\n",
        "  if cup_size_code == 'dddd/g':\n",
        "    return 24, 25\n",
        "  if cup_size_code == 'h':\n",
        "    return 26, 27\n",
        "  if cup_size_code == 'i':\n",
        "    return 28, 29\n",
        "  if cup_size_code == 'j':\n",
        "    return 30, 31\n",
        "  if cup_size_code == 'k':\n",
        "    return 32, 33 \n",
        "  else:\n",
        "    return str(np.nan)"
      ],
      "metadata": {
        "id": "dOP7koalB8KT"
      },
      "execution_count": null,
      "outputs": []
    },
    {
      "cell_type": "code",
      "source": [
        "data['Cup_size_in_cm'] = data.Cup_size.apply(Convert_cup_size_to_cm)\n",
        "data.head()"
      ],
      "metadata": {
        "colab": {
          "base_uri": "https://localhost:8080/",
          "height": 206
        },
        "id": "naLnA2QTCQxE",
        "outputId": "7c4b01b9-125e-4a8b-d863-aa848ac454ca"
      },
      "execution_count": null,
      "outputs": [
        {
          "output_type": "execute_result",
          "data": {
            "text/html": [
              "\n",
              "  <div id=\"df-b272b599-1efb-44e5-aaa1-552902ef0c9d\">\n",
              "    <div class=\"colab-df-container\">\n",
              "      <div>\n",
              "<style scoped>\n",
              "    .dataframe tbody tr th:only-of-type {\n",
              "        vertical-align: middle;\n",
              "    }\n",
              "\n",
              "    .dataframe tbody tr th {\n",
              "        vertical-align: top;\n",
              "    }\n",
              "\n",
              "    .dataframe thead th {\n",
              "        text-align: right;\n",
              "    }\n",
              "</style>\n",
              "<table border=\"1\" class=\"dataframe\">\n",
              "  <thead>\n",
              "    <tr style=\"text-align: right;\">\n",
              "      <th></th>\n",
              "      <th>Waist</th>\n",
              "      <th>Bust</th>\n",
              "      <th>Size</th>\n",
              "      <th>Cup_size</th>\n",
              "      <th>Hips</th>\n",
              "      <th>Bra_size</th>\n",
              "      <th>Height</th>\n",
              "      <th>Cup_size_in_cm</th>\n",
              "    </tr>\n",
              "  </thead>\n",
              "  <tbody>\n",
              "    <tr>\n",
              "      <th>0</th>\n",
              "      <td>29</td>\n",
              "      <td>36</td>\n",
              "      <td>7</td>\n",
              "      <td>d</td>\n",
              "      <td>38</td>\n",
              "      <td>34</td>\n",
              "      <td>5ft 6in</td>\n",
              "      <td>(18, 19)</td>\n",
              "    </tr>\n",
              "    <tr>\n",
              "      <th>1</th>\n",
              "      <td>31</td>\n",
              "      <td>NaN</td>\n",
              "      <td>13</td>\n",
              "      <td>b</td>\n",
              "      <td>30</td>\n",
              "      <td>36</td>\n",
              "      <td>5ft 2in</td>\n",
              "      <td>(14, 15)</td>\n",
              "    </tr>\n",
              "    <tr>\n",
              "      <th>2</th>\n",
              "      <td>30</td>\n",
              "      <td>NaN</td>\n",
              "      <td>7</td>\n",
              "      <td>b</td>\n",
              "      <td>NaN</td>\n",
              "      <td>32</td>\n",
              "      <td>5ft 7in</td>\n",
              "      <td>(14, 15)</td>\n",
              "    </tr>\n",
              "    <tr>\n",
              "      <th>3</th>\n",
              "      <td>NaN</td>\n",
              "      <td>NaN</td>\n",
              "      <td>21</td>\n",
              "      <td>dd/e</td>\n",
              "      <td>NaN</td>\n",
              "      <td>NaN</td>\n",
              "      <td>NaN</td>\n",
              "      <td>(20, 21)</td>\n",
              "    </tr>\n",
              "    <tr>\n",
              "      <th>4</th>\n",
              "      <td>NaN</td>\n",
              "      <td>NaN</td>\n",
              "      <td>18</td>\n",
              "      <td>b</td>\n",
              "      <td>NaN</td>\n",
              "      <td>36</td>\n",
              "      <td>5ft 2in</td>\n",
              "      <td>(14, 15)</td>\n",
              "    </tr>\n",
              "  </tbody>\n",
              "</table>\n",
              "</div>\n",
              "      <button class=\"colab-df-convert\" onclick=\"convertToInteractive('df-b272b599-1efb-44e5-aaa1-552902ef0c9d')\"\n",
              "              title=\"Convert this dataframe to an interactive table.\"\n",
              "              style=\"display:none;\">\n",
              "        \n",
              "  <svg xmlns=\"http://www.w3.org/2000/svg\" height=\"24px\"viewBox=\"0 0 24 24\"\n",
              "       width=\"24px\">\n",
              "    <path d=\"M0 0h24v24H0V0z\" fill=\"none\"/>\n",
              "    <path d=\"M18.56 5.44l.94 2.06.94-2.06 2.06-.94-2.06-.94-.94-2.06-.94 2.06-2.06.94zm-11 1L8.5 8.5l.94-2.06 2.06-.94-2.06-.94L8.5 2.5l-.94 2.06-2.06.94zm10 10l.94 2.06.94-2.06 2.06-.94-2.06-.94-.94-2.06-.94 2.06-2.06.94z\"/><path d=\"M17.41 7.96l-1.37-1.37c-.4-.4-.92-.59-1.43-.59-.52 0-1.04.2-1.43.59L10.3 9.45l-7.72 7.72c-.78.78-.78 2.05 0 2.83L4 21.41c.39.39.9.59 1.41.59.51 0 1.02-.2 1.41-.59l7.78-7.78 2.81-2.81c.8-.78.8-2.07 0-2.86zM5.41 20L4 18.59l7.72-7.72 1.47 1.35L5.41 20z\"/>\n",
              "  </svg>\n",
              "      </button>\n",
              "      \n",
              "  <style>\n",
              "    .colab-df-container {\n",
              "      display:flex;\n",
              "      flex-wrap:wrap;\n",
              "      gap: 12px;\n",
              "    }\n",
              "\n",
              "    .colab-df-convert {\n",
              "      background-color: #E8F0FE;\n",
              "      border: none;\n",
              "      border-radius: 50%;\n",
              "      cursor: pointer;\n",
              "      display: none;\n",
              "      fill: #1967D2;\n",
              "      height: 32px;\n",
              "      padding: 0 0 0 0;\n",
              "      width: 32px;\n",
              "    }\n",
              "\n",
              "    .colab-df-convert:hover {\n",
              "      background-color: #E2EBFA;\n",
              "      box-shadow: 0px 1px 2px rgba(60, 64, 67, 0.3), 0px 1px 3px 1px rgba(60, 64, 67, 0.15);\n",
              "      fill: #174EA6;\n",
              "    }\n",
              "\n",
              "    [theme=dark] .colab-df-convert {\n",
              "      background-color: #3B4455;\n",
              "      fill: #D2E3FC;\n",
              "    }\n",
              "\n",
              "    [theme=dark] .colab-df-convert:hover {\n",
              "      background-color: #434B5C;\n",
              "      box-shadow: 0px 1px 3px 1px rgba(0, 0, 0, 0.15);\n",
              "      filter: drop-shadow(0px 1px 2px rgba(0, 0, 0, 0.3));\n",
              "      fill: #FFFFFF;\n",
              "    }\n",
              "  </style>\n",
              "\n",
              "      <script>\n",
              "        const buttonEl =\n",
              "          document.querySelector('#df-b272b599-1efb-44e5-aaa1-552902ef0c9d button.colab-df-convert');\n",
              "        buttonEl.style.display =\n",
              "          google.colab.kernel.accessAllowed ? 'block' : 'none';\n",
              "\n",
              "        async function convertToInteractive(key) {\n",
              "          const element = document.querySelector('#df-b272b599-1efb-44e5-aaa1-552902ef0c9d');\n",
              "          const dataTable =\n",
              "            await google.colab.kernel.invokeFunction('convertToInteractive',\n",
              "                                                     [key], {});\n",
              "          if (!dataTable) return;\n",
              "\n",
              "          const docLinkHtml = 'Like what you see? Visit the ' +\n",
              "            '<a target=\"_blank\" href=https://colab.research.google.com/notebooks/data_table.ipynb>data table notebook</a>'\n",
              "            + ' to learn more about interactive tables.';\n",
              "          element.innerHTML = '';\n",
              "          dataTable['output_type'] = 'display_data';\n",
              "          await google.colab.output.renderOutput(dataTable, element);\n",
              "          const docLink = document.createElement('div');\n",
              "          docLink.innerHTML = docLinkHtml;\n",
              "          element.appendChild(docLink);\n",
              "        }\n",
              "      </script>\n",
              "    </div>\n",
              "  </div>\n",
              "  "
            ],
            "text/plain": [
              "  Waist Bust  Size Cup_size Hips Bra_size   Height Cup_size_in_cm\n",
              "0    29   36     7        d   38       34  5ft 6in       (18, 19)\n",
              "1    31  NaN    13        b   30       36  5ft 2in       (14, 15)\n",
              "2    30  NaN     7        b  NaN       32  5ft 7in       (14, 15)\n",
              "3   NaN  NaN    21     dd/e  NaN      NaN      NaN       (20, 21)\n",
              "4   NaN  NaN    18        b  NaN       36  5ft 2in       (14, 15)"
            ]
          },
          "metadata": {},
          "execution_count": 242
        }
      ]
    },
    {
      "cell_type": "code",
      "source": [
        "# Splitting the data\n",
        "def split_cup_size_data(data, index):\n",
        "  if data.lower() == 'nan':\n",
        "    return 0\n",
        "  value = data.replace('(','').replace(')','').replace(',','')\n",
        "  return value.split()[index]"
      ],
      "metadata": {
        "id": "twtuq_aGC85G"
      },
      "execution_count": null,
      "outputs": []
    },
    {
      "cell_type": "code",
      "source": [
        "data['Cup_size_in_cm'] =  data.Cup_size_in_cm.astype(str).apply(lambda x : split_cup_size_data(x,0))\n",
        "data.head()"
      ],
      "metadata": {
        "colab": {
          "base_uri": "https://localhost:8080/",
          "height": 206
        },
        "id": "aYDBWY4YDAW0",
        "outputId": "c38a7ac9-a3ef-47a7-8ffe-55970f6e29b1"
      },
      "execution_count": null,
      "outputs": [
        {
          "output_type": "execute_result",
          "data": {
            "text/html": [
              "\n",
              "  <div id=\"df-010cebb4-6540-45ef-981e-19851c96e0f6\">\n",
              "    <div class=\"colab-df-container\">\n",
              "      <div>\n",
              "<style scoped>\n",
              "    .dataframe tbody tr th:only-of-type {\n",
              "        vertical-align: middle;\n",
              "    }\n",
              "\n",
              "    .dataframe tbody tr th {\n",
              "        vertical-align: top;\n",
              "    }\n",
              "\n",
              "    .dataframe thead th {\n",
              "        text-align: right;\n",
              "    }\n",
              "</style>\n",
              "<table border=\"1\" class=\"dataframe\">\n",
              "  <thead>\n",
              "    <tr style=\"text-align: right;\">\n",
              "      <th></th>\n",
              "      <th>Waist</th>\n",
              "      <th>Bust</th>\n",
              "      <th>Size</th>\n",
              "      <th>Cup_size</th>\n",
              "      <th>Hips</th>\n",
              "      <th>Bra_size</th>\n",
              "      <th>Height</th>\n",
              "      <th>Cup_size_in_cm</th>\n",
              "    </tr>\n",
              "  </thead>\n",
              "  <tbody>\n",
              "    <tr>\n",
              "      <th>0</th>\n",
              "      <td>29</td>\n",
              "      <td>36</td>\n",
              "      <td>7</td>\n",
              "      <td>d</td>\n",
              "      <td>38</td>\n",
              "      <td>34</td>\n",
              "      <td>5ft 6in</td>\n",
              "      <td>18</td>\n",
              "    </tr>\n",
              "    <tr>\n",
              "      <th>1</th>\n",
              "      <td>31</td>\n",
              "      <td>NaN</td>\n",
              "      <td>13</td>\n",
              "      <td>b</td>\n",
              "      <td>30</td>\n",
              "      <td>36</td>\n",
              "      <td>5ft 2in</td>\n",
              "      <td>14</td>\n",
              "    </tr>\n",
              "    <tr>\n",
              "      <th>2</th>\n",
              "      <td>30</td>\n",
              "      <td>NaN</td>\n",
              "      <td>7</td>\n",
              "      <td>b</td>\n",
              "      <td>NaN</td>\n",
              "      <td>32</td>\n",
              "      <td>5ft 7in</td>\n",
              "      <td>14</td>\n",
              "    </tr>\n",
              "    <tr>\n",
              "      <th>3</th>\n",
              "      <td>NaN</td>\n",
              "      <td>NaN</td>\n",
              "      <td>21</td>\n",
              "      <td>dd/e</td>\n",
              "      <td>NaN</td>\n",
              "      <td>NaN</td>\n",
              "      <td>NaN</td>\n",
              "      <td>20</td>\n",
              "    </tr>\n",
              "    <tr>\n",
              "      <th>4</th>\n",
              "      <td>NaN</td>\n",
              "      <td>NaN</td>\n",
              "      <td>18</td>\n",
              "      <td>b</td>\n",
              "      <td>NaN</td>\n",
              "      <td>36</td>\n",
              "      <td>5ft 2in</td>\n",
              "      <td>14</td>\n",
              "    </tr>\n",
              "  </tbody>\n",
              "</table>\n",
              "</div>\n",
              "      <button class=\"colab-df-convert\" onclick=\"convertToInteractive('df-010cebb4-6540-45ef-981e-19851c96e0f6')\"\n",
              "              title=\"Convert this dataframe to an interactive table.\"\n",
              "              style=\"display:none;\">\n",
              "        \n",
              "  <svg xmlns=\"http://www.w3.org/2000/svg\" height=\"24px\"viewBox=\"0 0 24 24\"\n",
              "       width=\"24px\">\n",
              "    <path d=\"M0 0h24v24H0V0z\" fill=\"none\"/>\n",
              "    <path d=\"M18.56 5.44l.94 2.06.94-2.06 2.06-.94-2.06-.94-.94-2.06-.94 2.06-2.06.94zm-11 1L8.5 8.5l.94-2.06 2.06-.94-2.06-.94L8.5 2.5l-.94 2.06-2.06.94zm10 10l.94 2.06.94-2.06 2.06-.94-2.06-.94-.94-2.06-.94 2.06-2.06.94z\"/><path d=\"M17.41 7.96l-1.37-1.37c-.4-.4-.92-.59-1.43-.59-.52 0-1.04.2-1.43.59L10.3 9.45l-7.72 7.72c-.78.78-.78 2.05 0 2.83L4 21.41c.39.39.9.59 1.41.59.51 0 1.02-.2 1.41-.59l7.78-7.78 2.81-2.81c.8-.78.8-2.07 0-2.86zM5.41 20L4 18.59l7.72-7.72 1.47 1.35L5.41 20z\"/>\n",
              "  </svg>\n",
              "      </button>\n",
              "      \n",
              "  <style>\n",
              "    .colab-df-container {\n",
              "      display:flex;\n",
              "      flex-wrap:wrap;\n",
              "      gap: 12px;\n",
              "    }\n",
              "\n",
              "    .colab-df-convert {\n",
              "      background-color: #E8F0FE;\n",
              "      border: none;\n",
              "      border-radius: 50%;\n",
              "      cursor: pointer;\n",
              "      display: none;\n",
              "      fill: #1967D2;\n",
              "      height: 32px;\n",
              "      padding: 0 0 0 0;\n",
              "      width: 32px;\n",
              "    }\n",
              "\n",
              "    .colab-df-convert:hover {\n",
              "      background-color: #E2EBFA;\n",
              "      box-shadow: 0px 1px 2px rgba(60, 64, 67, 0.3), 0px 1px 3px 1px rgba(60, 64, 67, 0.15);\n",
              "      fill: #174EA6;\n",
              "    }\n",
              "\n",
              "    [theme=dark] .colab-df-convert {\n",
              "      background-color: #3B4455;\n",
              "      fill: #D2E3FC;\n",
              "    }\n",
              "\n",
              "    [theme=dark] .colab-df-convert:hover {\n",
              "      background-color: #434B5C;\n",
              "      box-shadow: 0px 1px 3px 1px rgba(0, 0, 0, 0.15);\n",
              "      filter: drop-shadow(0px 1px 2px rgba(0, 0, 0, 0.3));\n",
              "      fill: #FFFFFF;\n",
              "    }\n",
              "  </style>\n",
              "\n",
              "      <script>\n",
              "        const buttonEl =\n",
              "          document.querySelector('#df-010cebb4-6540-45ef-981e-19851c96e0f6 button.colab-df-convert');\n",
              "        buttonEl.style.display =\n",
              "          google.colab.kernel.accessAllowed ? 'block' : 'none';\n",
              "\n",
              "        async function convertToInteractive(key) {\n",
              "          const element = document.querySelector('#df-010cebb4-6540-45ef-981e-19851c96e0f6');\n",
              "          const dataTable =\n",
              "            await google.colab.kernel.invokeFunction('convertToInteractive',\n",
              "                                                     [key], {});\n",
              "          if (!dataTable) return;\n",
              "\n",
              "          const docLinkHtml = 'Like what you see? Visit the ' +\n",
              "            '<a target=\"_blank\" href=https://colab.research.google.com/notebooks/data_table.ipynb>data table notebook</a>'\n",
              "            + ' to learn more about interactive tables.';\n",
              "          element.innerHTML = '';\n",
              "          dataTable['output_type'] = 'display_data';\n",
              "          await google.colab.output.renderOutput(dataTable, element);\n",
              "          const docLink = document.createElement('div');\n",
              "          docLink.innerHTML = docLinkHtml;\n",
              "          element.appendChild(docLink);\n",
              "        }\n",
              "      </script>\n",
              "    </div>\n",
              "  </div>\n",
              "  "
            ],
            "text/plain": [
              "  Waist Bust  Size Cup_size Hips Bra_size   Height Cup_size_in_cm\n",
              "0    29   36     7        d   38       34  5ft 6in             18\n",
              "1    31  NaN    13        b   30       36  5ft 2in             14\n",
              "2    30  NaN     7        b  NaN       32  5ft 7in             14\n",
              "3   NaN  NaN    21     dd/e  NaN      NaN      NaN             20\n",
              "4   NaN  NaN    18        b  NaN       36  5ft 2in             14"
            ]
          },
          "metadata": {},
          "execution_count": 245
        }
      ]
    },
    {
      "cell_type": "code",
      "source": [
        "#Removing Cup_size column\n",
        "df = data.drop(['Cup_size'], axis = 1)\n",
        "df.head()"
      ],
      "metadata": {
        "colab": {
          "base_uri": "https://localhost:8080/",
          "height": 206
        },
        "id": "-Z9R9a2QF_2E",
        "outputId": "0c20ffa9-0566-4d48-f753-c4be45fe0fec"
      },
      "execution_count": null,
      "outputs": [
        {
          "output_type": "execute_result",
          "data": {
            "text/html": [
              "\n",
              "  <div id=\"df-ce88b408-9918-4844-a2c7-c1d17b48b95b\">\n",
              "    <div class=\"colab-df-container\">\n",
              "      <div>\n",
              "<style scoped>\n",
              "    .dataframe tbody tr th:only-of-type {\n",
              "        vertical-align: middle;\n",
              "    }\n",
              "\n",
              "    .dataframe tbody tr th {\n",
              "        vertical-align: top;\n",
              "    }\n",
              "\n",
              "    .dataframe thead th {\n",
              "        text-align: right;\n",
              "    }\n",
              "</style>\n",
              "<table border=\"1\" class=\"dataframe\">\n",
              "  <thead>\n",
              "    <tr style=\"text-align: right;\">\n",
              "      <th></th>\n",
              "      <th>Waist</th>\n",
              "      <th>Bust</th>\n",
              "      <th>Size</th>\n",
              "      <th>Hips</th>\n",
              "      <th>Bra_size</th>\n",
              "      <th>Height</th>\n",
              "      <th>Cup_size_in_cm</th>\n",
              "    </tr>\n",
              "  </thead>\n",
              "  <tbody>\n",
              "    <tr>\n",
              "      <th>0</th>\n",
              "      <td>29</td>\n",
              "      <td>36</td>\n",
              "      <td>7</td>\n",
              "      <td>38</td>\n",
              "      <td>34</td>\n",
              "      <td>5ft 6in</td>\n",
              "      <td>18</td>\n",
              "    </tr>\n",
              "    <tr>\n",
              "      <th>1</th>\n",
              "      <td>31</td>\n",
              "      <td>nan</td>\n",
              "      <td>13</td>\n",
              "      <td>30</td>\n",
              "      <td>36</td>\n",
              "      <td>5ft 2in</td>\n",
              "      <td>14</td>\n",
              "    </tr>\n",
              "    <tr>\n",
              "      <th>2</th>\n",
              "      <td>30</td>\n",
              "      <td>nan</td>\n",
              "      <td>7</td>\n",
              "      <td>NaN</td>\n",
              "      <td>32</td>\n",
              "      <td>5ft 7in</td>\n",
              "      <td>14</td>\n",
              "    </tr>\n",
              "    <tr>\n",
              "      <th>3</th>\n",
              "      <td>NaN</td>\n",
              "      <td>nan</td>\n",
              "      <td>21</td>\n",
              "      <td>NaN</td>\n",
              "      <td>NaN</td>\n",
              "      <td>NaN</td>\n",
              "      <td>20</td>\n",
              "    </tr>\n",
              "    <tr>\n",
              "      <th>4</th>\n",
              "      <td>NaN</td>\n",
              "      <td>nan</td>\n",
              "      <td>18</td>\n",
              "      <td>NaN</td>\n",
              "      <td>36</td>\n",
              "      <td>5ft 2in</td>\n",
              "      <td>14</td>\n",
              "    </tr>\n",
              "  </tbody>\n",
              "</table>\n",
              "</div>\n",
              "      <button class=\"colab-df-convert\" onclick=\"convertToInteractive('df-ce88b408-9918-4844-a2c7-c1d17b48b95b')\"\n",
              "              title=\"Convert this dataframe to an interactive table.\"\n",
              "              style=\"display:none;\">\n",
              "        \n",
              "  <svg xmlns=\"http://www.w3.org/2000/svg\" height=\"24px\"viewBox=\"0 0 24 24\"\n",
              "       width=\"24px\">\n",
              "    <path d=\"M0 0h24v24H0V0z\" fill=\"none\"/>\n",
              "    <path d=\"M18.56 5.44l.94 2.06.94-2.06 2.06-.94-2.06-.94-.94-2.06-.94 2.06-2.06.94zm-11 1L8.5 8.5l.94-2.06 2.06-.94-2.06-.94L8.5 2.5l-.94 2.06-2.06.94zm10 10l.94 2.06.94-2.06 2.06-.94-2.06-.94-.94-2.06-.94 2.06-2.06.94z\"/><path d=\"M17.41 7.96l-1.37-1.37c-.4-.4-.92-.59-1.43-.59-.52 0-1.04.2-1.43.59L10.3 9.45l-7.72 7.72c-.78.78-.78 2.05 0 2.83L4 21.41c.39.39.9.59 1.41.59.51 0 1.02-.2 1.41-.59l7.78-7.78 2.81-2.81c.8-.78.8-2.07 0-2.86zM5.41 20L4 18.59l7.72-7.72 1.47 1.35L5.41 20z\"/>\n",
              "  </svg>\n",
              "      </button>\n",
              "      \n",
              "  <style>\n",
              "    .colab-df-container {\n",
              "      display:flex;\n",
              "      flex-wrap:wrap;\n",
              "      gap: 12px;\n",
              "    }\n",
              "\n",
              "    .colab-df-convert {\n",
              "      background-color: #E8F0FE;\n",
              "      border: none;\n",
              "      border-radius: 50%;\n",
              "      cursor: pointer;\n",
              "      display: none;\n",
              "      fill: #1967D2;\n",
              "      height: 32px;\n",
              "      padding: 0 0 0 0;\n",
              "      width: 32px;\n",
              "    }\n",
              "\n",
              "    .colab-df-convert:hover {\n",
              "      background-color: #E2EBFA;\n",
              "      box-shadow: 0px 1px 2px rgba(60, 64, 67, 0.3), 0px 1px 3px 1px rgba(60, 64, 67, 0.15);\n",
              "      fill: #174EA6;\n",
              "    }\n",
              "\n",
              "    [theme=dark] .colab-df-convert {\n",
              "      background-color: #3B4455;\n",
              "      fill: #D2E3FC;\n",
              "    }\n",
              "\n",
              "    [theme=dark] .colab-df-convert:hover {\n",
              "      background-color: #434B5C;\n",
              "      box-shadow: 0px 1px 3px 1px rgba(0, 0, 0, 0.15);\n",
              "      filter: drop-shadow(0px 1px 2px rgba(0, 0, 0, 0.3));\n",
              "      fill: #FFFFFF;\n",
              "    }\n",
              "  </style>\n",
              "\n",
              "      <script>\n",
              "        const buttonEl =\n",
              "          document.querySelector('#df-ce88b408-9918-4844-a2c7-c1d17b48b95b button.colab-df-convert');\n",
              "        buttonEl.style.display =\n",
              "          google.colab.kernel.accessAllowed ? 'block' : 'none';\n",
              "\n",
              "        async function convertToInteractive(key) {\n",
              "          const element = document.querySelector('#df-ce88b408-9918-4844-a2c7-c1d17b48b95b');\n",
              "          const dataTable =\n",
              "            await google.colab.kernel.invokeFunction('convertToInteractive',\n",
              "                                                     [key], {});\n",
              "          if (!dataTable) return;\n",
              "\n",
              "          const docLinkHtml = 'Like what you see? Visit the ' +\n",
              "            '<a target=\"_blank\" href=https://colab.research.google.com/notebooks/data_table.ipynb>data table notebook</a>'\n",
              "            + ' to learn more about interactive tables.';\n",
              "          element.innerHTML = '';\n",
              "          dataTable['output_type'] = 'display_data';\n",
              "          await google.colab.output.renderOutput(dataTable, element);\n",
              "          const docLink = document.createElement('div');\n",
              "          docLink.innerHTML = docLinkHtml;\n",
              "          element.appendChild(docLink);\n",
              "        }\n",
              "      </script>\n",
              "    </div>\n",
              "  </div>\n",
              "  "
            ],
            "text/plain": [
              "  Waist Bust  Size Hips Bra_size   Height Cup_size_in_cm\n",
              "0    29   36     7   38       34  5ft 6in             18\n",
              "1    31  nan    13   30       36  5ft 2in             14\n",
              "2    30  nan     7  NaN       32  5ft 7in             14\n",
              "3   NaN  nan    21  NaN      NaN      NaN             20\n",
              "4   NaN  nan    18  NaN       36  5ft 2in             14"
            ]
          },
          "metadata": {},
          "execution_count": 204
        }
      ]
    },
    {
      "cell_type": "code",
      "source": [
        "df['Hips'].unique()"
      ],
      "metadata": {
        "colab": {
          "base_uri": "https://localhost:8080/"
        },
        "id": "IRI3L_55_JX8",
        "outputId": "a99d1219-9cd3-4182-87d6-d601fb760723"
      },
      "execution_count": null,
      "outputs": [
        {
          "output_type": "execute_result",
          "data": {
            "text/plain": [
              "array(['38', '30', nan, '41', '42.0', '50.0', '41.0', '49.0', '60.0',\n",
              "       '36.0', '44.0', '39.0', '35.0', '38.0', '34.0', '32.0', '48.0',\n",
              "       '52.0', '40.0', '46.0', '30.0', '37.0', '45.0', '55.0', '51.0',\n",
              "       '33.0', '53.0', '54.0', '47.0', '59.0', '43.0', '46', '37', '40',\n",
              "       '47', '44', '34', '36', '39', '57.0', '58.0', '31.0', '33', '35',\n",
              "       '42', '52', '43', '31', '56.0', '51', '50', '45', '32', '60', '49',\n",
              "       '48', '55', '53', '56', '54', '59', '58', '57'], dtype=object)"
            ]
          },
          "metadata": {},
          "execution_count": 205
        }
      ]
    },
    {
      "cell_type": "code",
      "source": [
        "df['Bra_size'].unique()"
      ],
      "metadata": {
        "colab": {
          "base_uri": "https://localhost:8080/"
        },
        "id": "qOZNbfk9_K_J",
        "outputId": "d6d0edd0-5c65-43df-9db0-e6fbaefd51ba"
      },
      "execution_count": null,
      "outputs": [
        {
          "output_type": "execute_result",
          "data": {
            "text/plain": [
              "array(['34', '36', '32', nan, '38', '42', '40', '44', '46', '30', '48',\n",
              "       '28'], dtype=object)"
            ]
          },
          "metadata": {},
          "execution_count": 206
        }
      ]
    },
    {
      "cell_type": "code",
      "source": [
        "df['Height'].unique()"
      ],
      "metadata": {
        "colab": {
          "base_uri": "https://localhost:8080/"
        },
        "id": "AAQCAa_q_ULG",
        "outputId": "e97bf417-a759-491a-ed89-28a09816fa09"
      },
      "execution_count": null,
      "outputs": [
        {
          "output_type": "execute_result",
          "data": {
            "text/plain": [
              "array(['5ft 6in', '5ft 2in', '5ft 7in', nan, '5ft 4in', '5ft 3in',\n",
              "       '5ft 5in', '5ft 10in', '5ft 8in', '5ft', '5ft 9in', '5ft 1in',\n",
              "       '5ft 11in', '4ft 11in', '4ft 10in', '6ft', '3ft 4in', '4ft 9in',\n",
              "       '6ft 3in', '6ft 1in', '6ft 2in', '3ft', '4ft 7in', '4ft 4in',\n",
              "       '7ft 11in', '4ft 2in', '6ft 6in', '4ft 8in', '6ft 4in', '3ft 11in',\n",
              "       '6ft 5in', '7ft 6in', '3ft 6in', '3ft 3in', '6ft 8in', '7ft 5in',\n",
              "       '7ft 3in', '7ft 7in', '6ft 7in', '4ft 5in', '3ft 2in', '4ft 6in'],\n",
              "      dtype=object)"
            ]
          },
          "metadata": {},
          "execution_count": 207
        }
      ]
    },
    {
      "cell_type": "markdown",
      "source": [
        "Converting feet and inches to centimeters"
      ],
      "metadata": {
        "id": "pSRJ4yCYFuRv"
      }
    },
    {
      "cell_type": "code",
      "source": [
        "def Height_cm(x):\n",
        "  if x.lower() != 'nan':\n",
        "    x = x.replace('ft','').replace('in', '')\n",
        "    h_ft = int(x.split()[0])\n",
        "    if len(x.split()) > 1:\n",
        "      h_inch = int(x.split()[1])\n",
        "    else:\n",
        "      h_inch = 0\n",
        "    h_inch += h_ft * 12\n",
        "    h_cm = round(h_inch * 2.54, 1)\n",
        "    return h_cm\n",
        "\n",
        "df['Height'] = df['Height'].astype(str).apply(Height_cm)\n",
        "df.head()"
      ],
      "metadata": {
        "colab": {
          "base_uri": "https://localhost:8080/",
          "height": 206
        },
        "id": "N2O58Kn2eWfQ",
        "outputId": "9f299d02-407c-4d11-bfcd-f8cc90ab9b85"
      },
      "execution_count": null,
      "outputs": [
        {
          "output_type": "execute_result",
          "data": {
            "text/html": [
              "\n",
              "  <div id=\"df-b2ebe09f-597f-4293-bdbe-f2e2c6e1d8b0\">\n",
              "    <div class=\"colab-df-container\">\n",
              "      <div>\n",
              "<style scoped>\n",
              "    .dataframe tbody tr th:only-of-type {\n",
              "        vertical-align: middle;\n",
              "    }\n",
              "\n",
              "    .dataframe tbody tr th {\n",
              "        vertical-align: top;\n",
              "    }\n",
              "\n",
              "    .dataframe thead th {\n",
              "        text-align: right;\n",
              "    }\n",
              "</style>\n",
              "<table border=\"1\" class=\"dataframe\">\n",
              "  <thead>\n",
              "    <tr style=\"text-align: right;\">\n",
              "      <th></th>\n",
              "      <th>Waist</th>\n",
              "      <th>Bust</th>\n",
              "      <th>Size</th>\n",
              "      <th>Hips</th>\n",
              "      <th>Bra_size</th>\n",
              "      <th>Height</th>\n",
              "      <th>Cup_size_in_cm</th>\n",
              "    </tr>\n",
              "  </thead>\n",
              "  <tbody>\n",
              "    <tr>\n",
              "      <th>0</th>\n",
              "      <td>29</td>\n",
              "      <td>36</td>\n",
              "      <td>7</td>\n",
              "      <td>38</td>\n",
              "      <td>34</td>\n",
              "      <td>167.6</td>\n",
              "      <td>18</td>\n",
              "    </tr>\n",
              "    <tr>\n",
              "      <th>1</th>\n",
              "      <td>31</td>\n",
              "      <td>nan</td>\n",
              "      <td>13</td>\n",
              "      <td>30</td>\n",
              "      <td>36</td>\n",
              "      <td>157.5</td>\n",
              "      <td>14</td>\n",
              "    </tr>\n",
              "    <tr>\n",
              "      <th>2</th>\n",
              "      <td>30</td>\n",
              "      <td>nan</td>\n",
              "      <td>7</td>\n",
              "      <td>NaN</td>\n",
              "      <td>32</td>\n",
              "      <td>170.2</td>\n",
              "      <td>14</td>\n",
              "    </tr>\n",
              "    <tr>\n",
              "      <th>3</th>\n",
              "      <td>NaN</td>\n",
              "      <td>nan</td>\n",
              "      <td>21</td>\n",
              "      <td>NaN</td>\n",
              "      <td>NaN</td>\n",
              "      <td>NaN</td>\n",
              "      <td>20</td>\n",
              "    </tr>\n",
              "    <tr>\n",
              "      <th>4</th>\n",
              "      <td>NaN</td>\n",
              "      <td>nan</td>\n",
              "      <td>18</td>\n",
              "      <td>NaN</td>\n",
              "      <td>36</td>\n",
              "      <td>157.5</td>\n",
              "      <td>14</td>\n",
              "    </tr>\n",
              "  </tbody>\n",
              "</table>\n",
              "</div>\n",
              "      <button class=\"colab-df-convert\" onclick=\"convertToInteractive('df-b2ebe09f-597f-4293-bdbe-f2e2c6e1d8b0')\"\n",
              "              title=\"Convert this dataframe to an interactive table.\"\n",
              "              style=\"display:none;\">\n",
              "        \n",
              "  <svg xmlns=\"http://www.w3.org/2000/svg\" height=\"24px\"viewBox=\"0 0 24 24\"\n",
              "       width=\"24px\">\n",
              "    <path d=\"M0 0h24v24H0V0z\" fill=\"none\"/>\n",
              "    <path d=\"M18.56 5.44l.94 2.06.94-2.06 2.06-.94-2.06-.94-.94-2.06-.94 2.06-2.06.94zm-11 1L8.5 8.5l.94-2.06 2.06-.94-2.06-.94L8.5 2.5l-.94 2.06-2.06.94zm10 10l.94 2.06.94-2.06 2.06-.94-2.06-.94-.94-2.06-.94 2.06-2.06.94z\"/><path d=\"M17.41 7.96l-1.37-1.37c-.4-.4-.92-.59-1.43-.59-.52 0-1.04.2-1.43.59L10.3 9.45l-7.72 7.72c-.78.78-.78 2.05 0 2.83L4 21.41c.39.39.9.59 1.41.59.51 0 1.02-.2 1.41-.59l7.78-7.78 2.81-2.81c.8-.78.8-2.07 0-2.86zM5.41 20L4 18.59l7.72-7.72 1.47 1.35L5.41 20z\"/>\n",
              "  </svg>\n",
              "      </button>\n",
              "      \n",
              "  <style>\n",
              "    .colab-df-container {\n",
              "      display:flex;\n",
              "      flex-wrap:wrap;\n",
              "      gap: 12px;\n",
              "    }\n",
              "\n",
              "    .colab-df-convert {\n",
              "      background-color: #E8F0FE;\n",
              "      border: none;\n",
              "      border-radius: 50%;\n",
              "      cursor: pointer;\n",
              "      display: none;\n",
              "      fill: #1967D2;\n",
              "      height: 32px;\n",
              "      padding: 0 0 0 0;\n",
              "      width: 32px;\n",
              "    }\n",
              "\n",
              "    .colab-df-convert:hover {\n",
              "      background-color: #E2EBFA;\n",
              "      box-shadow: 0px 1px 2px rgba(60, 64, 67, 0.3), 0px 1px 3px 1px rgba(60, 64, 67, 0.15);\n",
              "      fill: #174EA6;\n",
              "    }\n",
              "\n",
              "    [theme=dark] .colab-df-convert {\n",
              "      background-color: #3B4455;\n",
              "      fill: #D2E3FC;\n",
              "    }\n",
              "\n",
              "    [theme=dark] .colab-df-convert:hover {\n",
              "      background-color: #434B5C;\n",
              "      box-shadow: 0px 1px 3px 1px rgba(0, 0, 0, 0.15);\n",
              "      filter: drop-shadow(0px 1px 2px rgba(0, 0, 0, 0.3));\n",
              "      fill: #FFFFFF;\n",
              "    }\n",
              "  </style>\n",
              "\n",
              "      <script>\n",
              "        const buttonEl =\n",
              "          document.querySelector('#df-b2ebe09f-597f-4293-bdbe-f2e2c6e1d8b0 button.colab-df-convert');\n",
              "        buttonEl.style.display =\n",
              "          google.colab.kernel.accessAllowed ? 'block' : 'none';\n",
              "\n",
              "        async function convertToInteractive(key) {\n",
              "          const element = document.querySelector('#df-b2ebe09f-597f-4293-bdbe-f2e2c6e1d8b0');\n",
              "          const dataTable =\n",
              "            await google.colab.kernel.invokeFunction('convertToInteractive',\n",
              "                                                     [key], {});\n",
              "          if (!dataTable) return;\n",
              "\n",
              "          const docLinkHtml = 'Like what you see? Visit the ' +\n",
              "            '<a target=\"_blank\" href=https://colab.research.google.com/notebooks/data_table.ipynb>data table notebook</a>'\n",
              "            + ' to learn more about interactive tables.';\n",
              "          element.innerHTML = '';\n",
              "          dataTable['output_type'] = 'display_data';\n",
              "          await google.colab.output.renderOutput(dataTable, element);\n",
              "          const docLink = document.createElement('div');\n",
              "          docLink.innerHTML = docLinkHtml;\n",
              "          element.appendChild(docLink);\n",
              "        }\n",
              "      </script>\n",
              "    </div>\n",
              "  </div>\n",
              "  "
            ],
            "text/plain": [
              "  Waist Bust  Size Hips Bra_size  Height Cup_size_in_cm\n",
              "0    29   36     7   38       34   167.6             18\n",
              "1    31  nan    13   30       36   157.5             14\n",
              "2    30  nan     7  NaN       32   170.2             14\n",
              "3   NaN  nan    21  NaN      NaN     NaN             20\n",
              "4   NaN  nan    18  NaN       36   157.5             14"
            ]
          },
          "metadata": {},
          "execution_count": 208
        }
      ]
    },
    {
      "cell_type": "markdown",
      "source": [
        "Using k-Nearest Neighbor Imputation to predict the missing values."
      ],
      "metadata": {
        "id": "Xb5oYvEmHMTX"
      }
    },
    {
      "cell_type": "code",
      "source": [
        "from sklearn.impute import KNNImputer\n",
        "imputer = KNNImputer()\n",
        "\n",
        "# finding imputation using other features (it will take couple of minutes to complete the execution)\n",
        "knn_features = df[['Waist','Bust','Hips','Bra_size','Height','Cup_size_in_cm']]\n",
        "\n",
        "df_filled = imputer.fit_transform(knn_features)\n",
        "\n",
        "\n",
        "imputations = pd.DataFrame(data=df_filled, columns=['Waist','Bust','Hips','Bra_size','Height','Cup_size_in_cm'])\n",
        "\n",
        "\n",
        "# remove the existing numeric columns (waist, height, hips, bra_size, bust, shoe_size ) from the main dataframe and concatenate  with knn imputed data\n",
        "#mc_df = mc_data\n",
        "new_data = df.drop(['Waist','Bust','Hips','Bra_size','Height','Cup_size_in_cm'], axis=1)\n"
      ],
      "metadata": {
        "id": "Cv7Xt10sYz9X"
      },
      "execution_count": null,
      "outputs": []
    },
    {
      "cell_type": "code",
      "source": [
        "# concatenate the imputations data with df frame\n",
        "Clean_data = pd.concat([new_data, imputations], axis=1)\n",
        "Clean_data.isnull().sum()"
      ],
      "metadata": {
        "colab": {
          "base_uri": "https://localhost:8080/"
        },
        "id": "z-FuZy8XuyI5",
        "outputId": "379d7ab3-f373-4aa8-cab8-fabe15bcc7fa"
      },
      "execution_count": null,
      "outputs": [
        {
          "output_type": "execute_result",
          "data": {
            "text/plain": [
              "Size              0\n",
              "Waist             0\n",
              "Bust              0\n",
              "Hips              0\n",
              "Bra_size          0\n",
              "Height            0\n",
              "Cup_size_in_cm    0\n",
              "dtype: int64"
            ]
          },
          "metadata": {},
          "execution_count": 210
        }
      ]
    },
    {
      "cell_type": "markdown",
      "source": [
        "Handeling Outliers"
      ],
      "metadata": {
        "id": "vBs_BDpQHsHs"
      }
    },
    {
      "cell_type": "code",
      "source": [
        "#I used a boxplot to show the outliers \n",
        "def Outliers(feature):\n",
        "  plt.figure(figsize=(25, 6))\n",
        "  ax = sns.boxplot(x=feature, linewidth=2.5)\n",
        "\n",
        "# Used Inter Quartile Range calculation to find the lower & upper range\n",
        "def Outliers_Range(datacolumn):\n",
        "  sorted(datacolumn)\n",
        "  Q1,Q3 = np.percentile(datacolumn , [25,75])\n",
        "  IQR = Q3 - Q1\n",
        "  lower_range = Q1 - (1.5 * IQR)\n",
        "  upper_range = Q3 + (1.5 * IQR)\n",
        "  return lower_range,upper_range\n",
        "\n",
        "# Normal distribution function\n",
        "def Distribution(feature):\n",
        "  plt.figure(figsize=(25, 6))\n",
        "  ax = sns.distplot(x=feature)\n"
      ],
      "metadata": {
        "id": "V8889gj5tdsj"
      },
      "execution_count": null,
      "outputs": []
    },
    {
      "cell_type": "markdown",
      "source": [
        "Size Column"
      ],
      "metadata": {
        "id": "FvZg4rYDIa3h"
      }
    },
    {
      "cell_type": "code",
      "source": [
        "Outliers(data['Size'])"
      ],
      "metadata": {
        "colab": {
          "base_uri": "https://localhost:8080/",
          "height": 183
        },
        "id": "5EYcwBlTjmfE",
        "outputId": "9d117df0-8a03-411a-840a-4ca4336b6b01"
      },
      "execution_count": null,
      "outputs": [
        {
          "output_type": "display_data",
          "data": {
            "image/png": "[encoded data removed]",
            "text/plain": [
              "<Figure size 1800x432 with 1 Axes>"
            ]
          },
          "metadata": {
            "needs_background": "light"
          }
        }
      ]
    },
    {
      "cell_type": "code",
      "source": [
        "#The outliers would be anything less than the lower range cutoff or anything more than the upper range cutoff\n",
        "ht_lower_range,ht_upper_range = Outliers_Range(Clean_data['Size'])\n",
        "ht_lower_range,ht_upper_range"
      ],
      "metadata": {
        "colab": {
          "base_uri": "https://localhost:8080/"
        },
        "id": "yP21rRMKuMpP",
        "outputId": "3b9b6e20-fdb2-4ee8-e95b-47b1f2b0d98f"
      },
      "execution_count": null,
      "outputs": [
        {
          "output_type": "execute_result",
          "data": {
            "text/plain": [
              "(-2.5, 25.5)"
            ]
          },
          "metadata": {},
          "execution_count": 213
        }
      ]
    },
    {
      "cell_type": "code",
      "source": [
        "#The the total amount of rows and columns less than the lower range and those greater than the higher range\n",
        "(Clean_data[(Clean_data['Size'] < ht_lower_range) | (Clean_data['Size'] > ht_upper_range)]).shape"
      ],
      "metadata": {
        "colab": {
          "base_uri": "https://localhost:8080/"
        },
        "id": "o0zvHehKu2oX",
        "outputId": "37306d37-e0a7-429d-b984-dfdcf4263543"
      },
      "execution_count": null,
      "outputs": [
        {
          "output_type": "execute_result",
          "data": {
            "text/plain": [
              "(10936, 7)"
            ]
          },
          "metadata": {},
          "execution_count": 214
        }
      ]
    },
    {
      "cell_type": "code",
      "source": [
        "#Removing outliers, resetting the index & checking new shape.\n",
        "Clean_data = Clean_data.drop(Clean_data[(Clean_data['Size'] < ht_lower_range) | (Clean_data['Size'] > ht_upper_range)].index)\n",
        "Clean_data.reset_index(drop=True, inplace=True)\n",
        "Clean_data.shape"
      ],
      "metadata": {
        "colab": {
          "base_uri": "https://localhost:8080/"
        },
        "id": "gi1OP28wvQAV",
        "outputId": "5cb50e2d-a3c8-49cc-f2e0-264ee4f162cf"
      },
      "execution_count": null,
      "outputs": [
        {
          "output_type": "execute_result",
          "data": {
            "text/plain": [
              "(71854, 7)"
            ]
          },
          "metadata": {},
          "execution_count": 215
        }
      ]
    },
    {
      "cell_type": "code",
      "source": [
        "# Lets look at the Size feature using box plot again to see the handling of outlier\n",
        "Outliers(Clean_data['Size'])"
      ],
      "metadata": {
        "colab": {
          "base_uri": "https://localhost:8080/",
          "height": 407
        },
        "id": "zbXSRzTlvXMI",
        "outputId": "c47aa126-d5f0-4c0b-ed5c-de1fac6bd472"
      },
      "execution_count": null,
      "outputs": [
        {
          "output_type": "display_data",
          "data": {
            "image/png": "[encoded data removed]",
            "text/plain": [
              "<Figure size 1800x432 with 1 Axes>"
            ]
          },
          "metadata": {
            "needs_background": "light"
          }
        }
      ]
    },
    {
      "cell_type": "markdown",
      "source": [
        "Waist Column Boxplot"
      ],
      "metadata": {
        "id": "Z68l3lIKKW5s"
      }
    },
    {
      "cell_type": "code",
      "source": [
        "Outliers(Clean_data['Waist'])"
      ],
      "metadata": {
        "colab": {
          "base_uri": "https://localhost:8080/",
          "height": 183
        },
        "id": "SdY3I_cBvvcD",
        "outputId": "f8311adf-3ac2-4c72-9c40-3741de1b8b3c"
      },
      "execution_count": null,
      "outputs": [
        {
          "output_type": "display_data",
          "data": {
            "image/png": "[encoded data removed]",
            "text/plain": [
              "<Figure size 1800x432 with 1 Axes>"
            ]
          },
          "metadata": {
            "needs_background": "light"
          }
        }
      ]
    },
    {
      "cell_type": "code",
      "source": [
        "#The outliers would be anything less than the lower range cutoff or anything more than the upper range cutoff\n",
        "ht_lower_range,ht_upper_range = Outliers_Range(Clean_data['Waist'])\n",
        "ht_lower_range,ht_upper_range"
      ],
      "metadata": {
        "id": "vrJxytNDj7mY",
        "colab": {
          "base_uri": "https://localhost:8080/"
        },
        "outputId": "ce2fc158-0aad-4fbe-8dba-a466aed13a2f"
      },
      "execution_count": null,
      "outputs": [
        {
          "output_type": "execute_result",
          "data": {
            "text/plain": [
              "(21.699999999999996, 38.50000000000001)"
            ]
          },
          "metadata": {},
          "execution_count": 219
        }
      ]
    },
    {
      "cell_type": "code",
      "source": [
        "#The the total amount of rows and columns less than the lower range and those greater than the higher range\n",
        "(Clean_data[(Clean_data['Waist'] < ht_lower_range) | (Clean_data['Waist'] > ht_upper_range)]).shape"
      ],
      "metadata": {
        "colab": {
          "base_uri": "https://localhost:8080/"
        },
        "id": "Lik_Uq0nlnSS",
        "outputId": "ac46ca14-c1a2-4c30-8982-2a0a10a64b29"
      },
      "execution_count": null,
      "outputs": [
        {
          "output_type": "execute_result",
          "data": {
            "text/plain": [
              "(1819, 7)"
            ]
          },
          "metadata": {},
          "execution_count": 85
        }
      ]
    },
    {
      "cell_type": "code",
      "source": [
        "#Removing outliers, resetting the index & checking new shape.\n",
        "Clean_data = Clean_data.drop(Clean_data[(Clean_data['Waist'] < ht_lower_range) | (Clean_data['Waist'] > ht_upper_range)].index)\n",
        "Clean_data.reset_index(drop=True, inplace=True)\n",
        "Clean_data.shape"
      ],
      "metadata": {
        "colab": {
          "base_uri": "https://localhost:8080/"
        },
        "id": "jLPHUXFqmcsK",
        "outputId": "070a6a8d-eab2-4bc3-8cd5-20ae1bfebb1b"
      },
      "execution_count": null,
      "outputs": [
        {
          "output_type": "execute_result",
          "data": {
            "text/plain": [
              "(69879, 7)"
            ]
          },
          "metadata": {},
          "execution_count": 86
        }
      ]
    },
    {
      "cell_type": "code",
      "source": [
        "# Lets look at the Waist feature using box plot again to see the handling of outlier\n",
        "Outliers(Clean_data['Waist'])"
      ],
      "metadata": {
        "colab": {
          "base_uri": "https://localhost:8080/",
          "height": 183
        },
        "id": "VGIbjo2Wmr9-",
        "outputId": "25ac4318-60e2-40d7-f16f-460bec1c8b40"
      },
      "execution_count": null,
      "outputs": [
        {
          "output_type": "display_data",
          "data": {
            "image/png": "[encoded data removed]",
            "text/plain": [
              "<Figure size 1800x432 with 1 Axes>"
            ]
          },
          "metadata": {
            "needs_background": "light"
          }
        }
      ]
    },
    {
      "cell_type": "markdown",
      "source": [
        "Hips column"
      ],
      "metadata": {
        "id": "g4ZsO-KfMJaF"
      }
    },
    {
      "cell_type": "code",
      "source": [
        "Outliers(Clean_data['Hips'])"
      ],
      "metadata": {
        "colab": {
          "base_uri": "https://localhost:8080/",
          "height": 407
        },
        "id": "aZh1BWHHykYg",
        "outputId": "09f7e975-deb9-4301-9e1a-fbb6298d41c1"
      },
      "execution_count": null,
      "outputs": [
        {
          "output_type": "display_data",
          "data": {
            "image/png": "[encoded data removed]",
            "text/plain": [
              "<Figure size 1800x432 with 1 Axes>"
            ]
          },
          "metadata": {
            "needs_background": "light"
          }
        }
      ]
    },
    {
      "cell_type": "code",
      "source": [
        "#The outliers would be anything less than the lower range cutoff or anything more than the upper range cutoff\n",
        "ht_lower_range,ht_upper_range = Outliers_Range(Clean_data['Hips'])\n",
        "ht_lower_range,ht_upper_range"
      ],
      "metadata": {
        "colab": {
          "base_uri": "https://localhost:8080/"
        },
        "id": "1JNuVZekwecH",
        "outputId": "d12e1875-25c0-4655-96b5-4b2b0b11406f"
      },
      "execution_count": null,
      "outputs": [
        {
          "output_type": "execute_result",
          "data": {
            "text/plain": [
              "(27.900000000000002, 49.5)"
            ]
          },
          "metadata": {},
          "execution_count": 89
        }
      ]
    },
    {
      "cell_type": "code",
      "source": [
        "#The the total amount of rows and columns less than the lower range and those greater than the higher range\n",
        "(Clean_data[(Clean_data['Hips'] < ht_lower_range) | (Clean_data['Hips'] > ht_upper_range)]).shape\n",
        "\n"
      ],
      "metadata": {
        "colab": {
          "base_uri": "https://localhost:8080/"
        },
        "id": "9p5U_rtI7u5o",
        "outputId": "570ee25c-3432-4199-f392-861b8a148f67"
      },
      "execution_count": null,
      "outputs": [
        {
          "output_type": "execute_result",
          "data": {
            "text/plain": [
              "(1111, 7)"
            ]
          },
          "metadata": {},
          "execution_count": 90
        }
      ]
    },
    {
      "cell_type": "code",
      "source": [
        "#Removing outliers, resetting the index & checking new shape. \n",
        "Clean_data = Clean_data.drop(Clean_data[(Clean_data['Hips'] < ht_lower_range) | (Clean_data['Hips'] > ht_upper_range)].index)\n",
        "Clean_data.reset_index(drop=True, inplace=True)\n",
        "Clean_data.shape"
      ],
      "metadata": {
        "colab": {
          "base_uri": "https://localhost:8080/"
        },
        "id": "4svwPgpmz6bt",
        "outputId": "9adf8ac7-8cd4-480e-e2a8-f8cdc0cf72e0"
      },
      "execution_count": null,
      "outputs": [
        {
          "output_type": "execute_result",
          "data": {
            "text/plain": [
              "(68768, 7)"
            ]
          },
          "metadata": {},
          "execution_count": 91
        }
      ]
    },
    {
      "cell_type": "code",
      "source": [
        "#Lets look at the Hips feature using box plot again to see the handling of outlier\n",
        "Outliers(Clean_data['Hips'])"
      ],
      "metadata": {
        "colab": {
          "base_uri": "https://localhost:8080/",
          "height": 407
        },
        "id": "nZC9-sdO02Z3",
        "outputId": "1db19db2-2310-4e44-acb5-b99ec5fbf8d1"
      },
      "execution_count": null,
      "outputs": [
        {
          "output_type": "display_data",
          "data": {
            "image/png": "[encoded data removed]",
            "text/plain": [
              "<Figure size 1800x432 with 1 Axes>"
            ]
          },
          "metadata": {
            "needs_background": "light"
          }
        }
      ]
    },
    {
      "cell_type": "markdown",
      "source": [
        "Bra_size column"
      ],
      "metadata": {
        "id": "ch_RZ2n-MOV1"
      }
    },
    {
      "cell_type": "code",
      "source": [
        "Outliers(Clean_data['Bra_size'])"
      ],
      "metadata": {
        "colab": {
          "base_uri": "https://localhost:8080/",
          "height": 184
        },
        "id": "ZCGd1HpI0Ffy",
        "outputId": "2729c6ee-180e-4882-f524-39917266ee68"
      },
      "execution_count": null,
      "outputs": [
        {
          "output_type": "display_data",
          "data": {
            "image/png": "[encoded data removed]",
            "text/plain": [
              "<Figure size 1800x432 with 1 Axes>"
            ]
          },
          "metadata": {
            "needs_background": "light"
          }
        }
      ]
    },
    {
      "cell_type": "code",
      "source": [
        "#The outliers would be anything less than the lower range cutoff or anything more than the upper range cutoff\n",
        "ht_lower_range,ht_upper_range = Outliers_Range(Clean_data['Bra_size'])\n",
        "ht_lower_range,ht_upper_range"
      ],
      "metadata": {
        "colab": {
          "base_uri": "https://localhost:8080/"
        },
        "id": "-RB1ktay0dR2",
        "outputId": "e99f0b6e-5fa4-44b4-f1e0-2a9e19508211"
      },
      "execution_count": null,
      "outputs": [
        {
          "output_type": "execute_result",
          "data": {
            "text/plain": [
              "(31.0, 39.0)"
            ]
          },
          "metadata": {},
          "execution_count": 94
        }
      ]
    },
    {
      "cell_type": "code",
      "source": [
        "#The the total amount of rows and columns less than the lower range and those greater than the higher range\n",
        "(Clean_data[(Clean_data['Bra_size'] < ht_lower_range) | (Clean_data['Bra_size'] > ht_upper_range)]).shape"
      ],
      "metadata": {
        "colab": {
          "base_uri": "https://localhost:8080/"
        },
        "id": "PybINx7h0ieo",
        "outputId": "d31047a8-e193-4e77-fe93-c72a0b803cc5"
      },
      "execution_count": null,
      "outputs": [
        {
          "output_type": "execute_result",
          "data": {
            "text/plain": [
              "(3712, 7)"
            ]
          },
          "metadata": {},
          "execution_count": 95
        }
      ]
    },
    {
      "cell_type": "code",
      "source": [
        "#Removing outliers, resetting the index & checking new shape. \n",
        "Clean_data = Clean_data.drop(Clean_data[(Clean_data['Bra_size'] < ht_lower_range) | (Clean_data['Bra_size'] > ht_upper_range)].index)\n",
        "Clean_data.reset_index(drop=True, inplace=True)\n",
        "Clean_data.shape"
      ],
      "metadata": {
        "colab": {
          "base_uri": "https://localhost:8080/"
        },
        "id": "JbIwDoJM0p_G",
        "outputId": "c4c60334-30a3-4a51-8b0e-e88cb5fd52af"
      },
      "execution_count": null,
      "outputs": [
        {
          "output_type": "execute_result",
          "data": {
            "text/plain": [
              "(65056, 7)"
            ]
          },
          "metadata": {},
          "execution_count": 96
        }
      ]
    },
    {
      "cell_type": "code",
      "source": [
        "# Lets look at the Bra_size feature using box plot again to see the handling of outlier\n",
        "Outliers(Clean_data['Bra_size'])"
      ],
      "metadata": {
        "colab": {
          "base_uri": "https://localhost:8080/",
          "height": 408
        },
        "id": "7bcF5kXn0xQM",
        "outputId": "6db60537-4077-4c34-8691-1af84aeb8cfd"
      },
      "execution_count": null,
      "outputs": [
        {
          "output_type": "display_data",
          "data": {
            "image/png": "[encoded data removed]",
            "text/plain": [
              "<Figure size 1800x432 with 1 Axes>"
            ]
          },
          "metadata": {
            "needs_background": "light"
          }
        }
      ]
    },
    {
      "cell_type": "markdown",
      "source": [
        "Height column"
      ],
      "metadata": {
        "id": "u53wlmSeMTkx"
      }
    },
    {
      "cell_type": "code",
      "source": [
        "Outliers(Clean_data['Height'])"
      ],
      "metadata": {
        "colab": {
          "base_uri": "https://localhost:8080/",
          "height": 183
        },
        "id": "-le4CE-w09id",
        "outputId": "8976c225-c5ef-4bd0-bdb4-24a4a071eb1e"
      },
      "execution_count": null,
      "outputs": [
        {
          "output_type": "display_data",
          "data": {
            "image/png": "[encoded data removed]",
            "text/plain": [
              "<Figure size 1800x432 with 1 Axes>"
            ]
          },
          "metadata": {
            "needs_background": "light"
          }
        }
      ]
    },
    {
      "cell_type": "code",
      "source": [
        "#The outliers would be anything less than the lower range cutoff or anything more than the upper range cutoff\n",
        "ht_lower_range,ht_upper_range = Outliers_Range(Clean_data['Height'])\n",
        "ht_lower_range,ht_upper_range"
      ],
      "metadata": {
        "colab": {
          "base_uri": "https://localhost:8080/"
        },
        "id": "LNVO4Epq1EWB",
        "outputId": "53d5d84b-f7a8-4d4e-b9b6-f770d2d8c264"
      },
      "execution_count": null,
      "outputs": [
        {
          "output_type": "execute_result",
          "data": {
            "text/plain": [
              "(144.70000000000002, 185.49999999999997)"
            ]
          },
          "metadata": {},
          "execution_count": 100
        }
      ]
    },
    {
      "cell_type": "code",
      "source": [
        "#The the total amount of rows and columns less than the lower range and those greater than the higher range\n",
        "(Clean_data[(Clean_data['Height'] < ht_lower_range) | (Clean_data['Height'] > ht_upper_range)]).shape"
      ],
      "metadata": {
        "colab": {
          "base_uri": "https://localhost:8080/"
        },
        "id": "sSrpCXla1L9_",
        "outputId": "6a896668-ccf8-47da-8039-e7479e48287b"
      },
      "execution_count": null,
      "outputs": [
        {
          "output_type": "execute_result",
          "data": {
            "text/plain": [
              "(0, 7)"
            ]
          },
          "metadata": {},
          "execution_count": 101
        }
      ]
    },
    {
      "cell_type": "code",
      "source": [
        "#Removing outliers, resetting the index & checking new shape.\n",
        "Clean_data = Clean_data.drop(Clean_data[(Clean_data['Height'] < ht_lower_range) | (Clean_data['Height'] > ht_upper_range)].index)\n",
        "Clean_data.reset_index(drop=True, inplace=True)\n",
        "Clean_data.shape"
      ],
      "metadata": {
        "colab": {
          "base_uri": "https://localhost:8080/"
        },
        "id": "1UD3hZa81V6O",
        "outputId": "15384dc0-4f7c-457b-b747-a2aa9cef500d"
      },
      "execution_count": null,
      "outputs": [
        {
          "output_type": "execute_result",
          "data": {
            "text/plain": [
              "(65056, 7)"
            ]
          },
          "metadata": {},
          "execution_count": 102
        }
      ]
    },
    {
      "cell_type": "code",
      "source": [
        "#Lets look at the Height feature using box plot again to see the handling of outlier\n",
        "Outliers(Clean_data['Height'])"
      ],
      "metadata": {
        "colab": {
          "base_uri": "https://localhost:8080/",
          "height": 407
        },
        "id": "uyUDPY3_xpss",
        "outputId": "8f046f6d-8cdd-4e39-b292-817fc39f575d"
      },
      "execution_count": null,
      "outputs": [
        {
          "output_type": "display_data",
          "data": {
            "image/png": "[encoded data removed]",
            "text/plain": [
              "<Figure size 1800x432 with 1 Axes>"
            ]
          },
          "metadata": {
            "needs_background": "light"
          }
        }
      ]
    },
    {
      "cell_type": "markdown",
      "source": [
        "Cup_size_in_cm column"
      ],
      "metadata": {
        "id": "CrYKqfWjMXP7"
      }
    },
    {
      "cell_type": "code",
      "source": [
        "Outliers(Clean_data['Cup_size_in_cm'])"
      ],
      "metadata": {
        "colab": {
          "base_uri": "https://localhost:8080/",
          "height": 408
        },
        "id": "5Gcth5W51eFD",
        "outputId": "ea8e4e8c-0085-42b6-849d-7b8fe9e814d2"
      },
      "execution_count": null,
      "outputs": [
        {
          "output_type": "display_data",
          "data": {
            "image/png": "[encoded data removed]",
            "text/plain": [
              "<Figure size 1800x432 with 1 Axes>"
            ]
          },
          "metadata": {
            "needs_background": "light"
          }
        }
      ]
    },
    {
      "cell_type": "code",
      "source": [
        "#The outliers would be anything less than the lower range cutoff or anything more than the upper range cutoff\n",
        "ht_lower_range,ht_upper_range = Outliers_Range(Clean_data['Cup_size_in_cm'])\n",
        "ht_lower_range,ht_upper_range"
      ],
      "metadata": {
        "colab": {
          "base_uri": "https://localhost:8080/"
        },
        "id": "DUbqwcwK1juF",
        "outputId": "8c29085a-f7d7-4538-d3cc-f769ff07a699"
      },
      "execution_count": null,
      "outputs": [
        {
          "output_type": "execute_result",
          "data": {
            "text/plain": [
              "(8.0, 24.0)"
            ]
          },
          "metadata": {},
          "execution_count": 106
        }
      ]
    },
    {
      "cell_type": "code",
      "source": [
        "#The the total amount of rows and columns less than the lower range and those greater than the higher range\n",
        "(Clean_data[(Clean_data['Cup_size_in_cm'] < ht_lower_range) | (Clean_data['Cup_size_in_cm'] > ht_upper_range)]).shape"
      ],
      "metadata": {
        "colab": {
          "base_uri": "https://localhost:8080/"
        },
        "id": "sXeh5Vtsx-gN",
        "outputId": "9c08ddfd-a3e9-4f64-cb6d-4af3cf902df3"
      },
      "execution_count": null,
      "outputs": [
        {
          "output_type": "execute_result",
          "data": {
            "text/plain": [
              "(5807, 7)"
            ]
          },
          "metadata": {},
          "execution_count": 107
        }
      ]
    },
    {
      "cell_type": "code",
      "source": [
        "#Removing outliers, resetting the index & checking new shape.\n",
        "Clean_data = Clean_data.drop(Clean_data[(Clean_data['Cup_size_in_cm'] < ht_lower_range) | (Clean_data['Cup_size_in_cm'] > ht_upper_range)].index)\n",
        "Clean_data.reset_index(drop=True, inplace=True)\n",
        "Clean_data.shape"
      ],
      "metadata": {
        "colab": {
          "base_uri": "https://localhost:8080/"
        },
        "id": "Fa8PYOqDyB6S",
        "outputId": "ac7ba472-a85a-4997-ca83-f543d6a11071"
      },
      "execution_count": null,
      "outputs": [
        {
          "output_type": "execute_result",
          "data": {
            "text/plain": [
              "(59249, 7)"
            ]
          },
          "metadata": {},
          "execution_count": 108
        }
      ]
    },
    {
      "cell_type": "code",
      "source": [
        "# Lets look at the Cup_size_in_cm feature using box plot again to see the handling of outlier\n",
        "Outliers(Clean_data['Cup_size_in_cm'])"
      ],
      "metadata": {
        "colab": {
          "base_uri": "https://localhost:8080/",
          "height": 408
        },
        "id": "jDBHZwqgyEbF",
        "outputId": "8664f3db-43b9-4b73-b468-c8c579da1399"
      },
      "execution_count": null,
      "outputs": [
        {
          "output_type": "display_data",
          "data": {
            "image/png": "[encoded data removed]",
            "text/plain": [
              "<Figure size 1800x432 with 1 Axes>"
            ]
          },
          "metadata": {
            "needs_background": "light"
          }
        }
      ]
    },
    {
      "cell_type": "markdown",
      "source": [
        "Feature Correlation"
      ],
      "metadata": {
        "id": "xI6uj5PejH60"
      }
    },
    {
      "cell_type": "code",
      "source": [
        "corrmat = Clean_data.corr()\n",
        "plt.subplots(figsize=(20, 10))\n",
        "sns.heatmap(corrmat, vmax=.9, cmap=\"YlGnBu\", square=True)"
      ],
      "metadata": {
        "colab": {
          "base_uri": "https://localhost:8080/",
          "height": 637
        },
        "id": "ww8a8CWIijwt",
        "outputId": "dec591ca-bc5b-4c37-8cd8-4c35b0e4b444"
      },
      "execution_count": null,
      "outputs": [
        {
          "output_type": "execute_result",
          "data": {
            "text/plain": [
              "<matplotlib.axes._subplots.AxesSubplot at 0x7f547da3c590>"
            ]
          },
          "metadata": {},
          "execution_count": 259
        },
        {
          "output_type": "display_data",
          "data": {
            "image/png": "[encoded data removed]",
            "text/plain": [
              "<Figure size 1440x720 with 2 Axes>"
            ]
          },
          "metadata": {}
        }
      ]
    },
    {
      "cell_type": "markdown",
      "source": [
        "Correlation Matrix with Heatmap can be used to identify the features most related to the size column and determine the relationship/association between the 'size' column (which is the target variable) and the other variables. The darker the colour, the stronger the relationship with 'size'. Which are Waist, Bust, Hips and Bra_size"
      ],
      "metadata": {
        "id": "EuFCZVrUjRr7"
      }
    },
    {
      "cell_type": "markdown",
      "source": [
        "Splitting the dataset into features and labels, X, y data"
      ],
      "metadata": {
        "id": "Yx2Yr2ewMcza"
      }
    },
    {
      "cell_type": "code",
      "source": [
        "X = Clean_data.drop(['Size','Height','Cup_size_in_cm'],axis=1).values\n",
        "y = Clean_data.Size.values"
      ],
      "metadata": {
        "id": "ty3_vGV52DkD"
      },
      "execution_count": null,
      "outputs": []
    },
    {
      "cell_type": "markdown",
      "source": [
        "Splitting the dataset into the Training set and Test set"
      ],
      "metadata": {
        "id": "axo-Aq0sMx_z"
      }
    },
    {
      "cell_type": "code",
      "source": [
        "X_train, X_test, y_train, y_test = train_test_split(X, y, test_size = 0.2, random_state = 0)"
      ],
      "metadata": {
        "id": "pkUkK6ez3FD4"
      },
      "execution_count": null,
      "outputs": []
    },
    {
      "cell_type": "markdown",
      "source": [
        "Applying PCA"
      ],
      "metadata": {
        "id": "kKwHz529Nbrr"
      }
    },
    {
      "cell_type": "code",
      "source": [
        "pca = PCA(n_components = 2)\n",
        "X_train = pca.fit_transform(X_train)\n",
        "X_test = pca.transform(X_test)\n",
        "explained_variance = pca.explained_variance_ratio_"
      ],
      "metadata": {
        "id": "0H4ACuvT379k"
      },
      "execution_count": null,
      "outputs": []
    },
    {
      "cell_type": "markdown",
      "source": [
        "Training the XGB Regression model on the Training set"
      ],
      "metadata": {
        "id": "FEFzI_rMNfJT"
      }
    },
    {
      "cell_type": "code",
      "source": [
        "Regressor = model = XGBRegressor()\n",
        "Regressor.fit(X_train, y_train)"
      ],
      "metadata": {
        "colab": {
          "base_uri": "https://localhost:8080/"
        },
        "id": "P8MI0AoS5Zbf",
        "outputId": "5170b04c-9f76-4e80-ff87-106921122793"
      },
      "execution_count": null,
      "outputs": [
        {
          "output_type": "stream",
          "name": "stdout",
          "text": [
            "[07:16:19] WARNING: /workspace/src/objective/regression_obj.cu:152: reg:linear is now deprecated in favor of reg:squarederror.\n"
          ]
        },
        {
          "output_type": "execute_result",
          "data": {
            "text/plain": [
              "XGBRegressor()"
            ]
          },
          "metadata": {},
          "execution_count": 268
        }
      ]
    },
    {
      "cell_type": "markdown",
      "source": [
        "Applying k-Fold Cross Validation"
      ],
      "metadata": {
        "id": "GG1oWISg5s2I"
      }
    },
    {
      "cell_type": "code",
      "source": [
        "#define model evaluation method\n",
        "cv = RepeatedKFold(n_splits=6, n_repeats=3, random_state=1)\n",
        "#evaluate model\n",
        "scores = cross_val_score(Regressor, X, y, scoring='neg_mean_absolute_error', cv=cv, n_jobs=-1)\n",
        "#force scores to be positive\n",
        "scores = absolute(scores)\n",
        "print('Mean MAE: %.3f (%.3f)' % (scores.mean(), scores.std()) )"
      ],
      "metadata": {
        "colab": {
          "base_uri": "https://localhost:8080/"
        },
        "id": "P0J8pqv77p2X",
        "outputId": "08d7761c-b252-4a21-a488-c41fa9cb77c3"
      },
      "execution_count": null,
      "outputs": [
        {
          "output_type": "stream",
          "name": "stdout",
          "text": [
            "Mean MAE: 2.578 (0.012)\n"
          ]
        }
      ]
    },
    {
      "cell_type": "markdown",
      "source": [
        "This score can be improved, meaning the model has skill and close to the best score of 1.9"
      ],
      "metadata": {
        "id": "DJ4DSeigQzM8"
      }
    }
  ]
}